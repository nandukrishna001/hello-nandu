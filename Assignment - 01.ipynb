{
 "cells": [
  {
   "cell_type": "markdown",
   "id": "a019b7bc",
   "metadata": {},
   "source": [
    "# Data"
   ]
  },
  {
   "cell_type": "code",
   "execution_count": 14,
   "id": "c6970059",
   "metadata": {},
   "outputs": [],
   "source": [
    "import pandas as pd\n",
    "import numpy as np\n",
    "import matplotlib.pyplot as plt\n",
    "import seaborn as sns"
   ]
  },
  {
   "cell_type": "code",
   "execution_count": 15,
   "id": "70a7c75e",
   "metadata": {},
   "outputs": [],
   "source": [
    "data=pd.read_csv(\"diamonds_new.csv\")"
   ]
  },
  {
   "cell_type": "code",
   "execution_count": 16,
   "id": "d884d73e",
   "metadata": {},
   "outputs": [
    {
     "data": {
      "text/html": [
       "<div>\n",
       "<style scoped>\n",
       "    .dataframe tbody tr th:only-of-type {\n",
       "        vertical-align: middle;\n",
       "    }\n",
       "\n",
       "    .dataframe tbody tr th {\n",
       "        vertical-align: top;\n",
       "    }\n",
       "\n",
       "    .dataframe thead th {\n",
       "        text-align: right;\n",
       "    }\n",
       "</style>\n",
       "<table border=\"1\" class=\"dataframe\">\n",
       "  <thead>\n",
       "    <tr style=\"text-align: right;\">\n",
       "      <th></th>\n",
       "      <th>carat</th>\n",
       "      <th>cut</th>\n",
       "      <th>color</th>\n",
       "      <th>clarity</th>\n",
       "      <th>table</th>\n",
       "      <th>x</th>\n",
       "      <th>y</th>\n",
       "      <th>z</th>\n",
       "      <th>price_new</th>\n",
       "    </tr>\n",
       "  </thead>\n",
       "  <tbody>\n",
       "    <tr>\n",
       "      <th>53935</th>\n",
       "      <td>0.72</td>\n",
       "      <td>Ideal</td>\n",
       "      <td>D</td>\n",
       "      <td>SI1</td>\n",
       "      <td>57.0</td>\n",
       "      <td>5.75</td>\n",
       "      <td>5.76</td>\n",
       "      <td>3.50</td>\n",
       "      <td>1378.5</td>\n",
       "    </tr>\n",
       "    <tr>\n",
       "      <th>53936</th>\n",
       "      <td>0.72</td>\n",
       "      <td>Good</td>\n",
       "      <td>D</td>\n",
       "      <td>SI1</td>\n",
       "      <td>55.0</td>\n",
       "      <td>5.69</td>\n",
       "      <td>5.75</td>\n",
       "      <td>3.61</td>\n",
       "      <td>1378.5</td>\n",
       "    </tr>\n",
       "    <tr>\n",
       "      <th>53937</th>\n",
       "      <td>0.70</td>\n",
       "      <td>Very Good</td>\n",
       "      <td>D</td>\n",
       "      <td>SI1</td>\n",
       "      <td>60.0</td>\n",
       "      <td>5.66</td>\n",
       "      <td>5.68</td>\n",
       "      <td>3.56</td>\n",
       "      <td>1378.5</td>\n",
       "    </tr>\n",
       "    <tr>\n",
       "      <th>53938</th>\n",
       "      <td>0.86</td>\n",
       "      <td>Premium</td>\n",
       "      <td>H</td>\n",
       "      <td>SI2</td>\n",
       "      <td>58.0</td>\n",
       "      <td>6.15</td>\n",
       "      <td>6.12</td>\n",
       "      <td>3.74</td>\n",
       "      <td>1378.5</td>\n",
       "    </tr>\n",
       "    <tr>\n",
       "      <th>53939</th>\n",
       "      <td>0.75</td>\n",
       "      <td>Ideal</td>\n",
       "      <td>D</td>\n",
       "      <td>SI2</td>\n",
       "      <td>55.0</td>\n",
       "      <td>5.83</td>\n",
       "      <td>5.87</td>\n",
       "      <td>3.64</td>\n",
       "      <td>1378.5</td>\n",
       "    </tr>\n",
       "  </tbody>\n",
       "</table>\n",
       "</div>"
      ],
      "text/plain": [
       "       carat        cut color clarity  table     x     y     z  price_new\n",
       "53935   0.72      Ideal     D     SI1   57.0  5.75  5.76  3.50     1378.5\n",
       "53936   0.72       Good     D     SI1   55.0  5.69  5.75  3.61     1378.5\n",
       "53937   0.70  Very Good     D     SI1   60.0  5.66  5.68  3.56     1378.5\n",
       "53938   0.86    Premium     H     SI2   58.0  6.15  6.12  3.74     1378.5\n",
       "53939   0.75      Ideal     D     SI2   55.0  5.83  5.87  3.64     1378.5"
      ]
     },
     "execution_count": 16,
     "metadata": {},
     "output_type": "execute_result"
    }
   ],
   "source": [
    "data.tail()"
   ]
  },
  {
   "cell_type": "code",
   "execution_count": 17,
   "id": "28de61a1",
   "metadata": {},
   "outputs": [
    {
     "name": "stdout",
     "output_type": "stream",
     "text": [
      "<class 'pandas.core.frame.DataFrame'>\n",
      "RangeIndex: 53940 entries, 0 to 53939\n",
      "Data columns (total 9 columns):\n",
      " #   Column     Non-Null Count  Dtype  \n",
      "---  ------     --------------  -----  \n",
      " 0   carat      53841 non-null  float64\n",
      " 1   cut        53940 non-null  object \n",
      " 2   color      53884 non-null  object \n",
      " 3   clarity    53940 non-null  object \n",
      " 4   table      53877 non-null  float64\n",
      " 5   x          53940 non-null  float64\n",
      " 6   y          53940 non-null  float64\n",
      " 7   z          53940 non-null  float64\n",
      " 8   price_new  53940 non-null  float64\n",
      "dtypes: float64(6), object(3)\n",
      "memory usage: 3.7+ MB\n"
     ]
    }
   ],
   "source": [
    "data.info()"
   ]
  },
  {
   "cell_type": "code",
   "execution_count": 18,
   "id": "e9ec3da8",
   "metadata": {},
   "outputs": [
    {
     "data": {
      "text/plain": [
       "Index(['carat', 'cut', 'color', 'clarity', 'table', 'x', 'y', 'z',\n",
       "       'price_new'],\n",
       "      dtype='object')"
      ]
     },
     "execution_count": 18,
     "metadata": {},
     "output_type": "execute_result"
    }
   ],
   "source": [
    "data.columns"
   ]
  },
  {
   "cell_type": "code",
   "execution_count": 19,
   "id": "563118d8",
   "metadata": {},
   "outputs": [
    {
     "data": {
      "text/plain": [
       "(53940, 9)"
      ]
     },
     "execution_count": 19,
     "metadata": {},
     "output_type": "execute_result"
    }
   ],
   "source": [
    "data.shape"
   ]
  },
  {
   "cell_type": "code",
   "execution_count": 20,
   "id": "0f1de82f",
   "metadata": {},
   "outputs": [
    {
     "data": {
      "text/plain": [
       "carat        float64\n",
       "cut           object\n",
       "color         object\n",
       "clarity       object\n",
       "table        float64\n",
       "x            float64\n",
       "y            float64\n",
       "z            float64\n",
       "price_new    float64\n",
       "dtype: object"
      ]
     },
     "execution_count": 20,
     "metadata": {},
     "output_type": "execute_result"
    }
   ],
   "source": [
    "data.dtypes"
   ]
  },
  {
   "cell_type": "markdown",
   "id": "469e9461",
   "metadata": {},
   "source": [
    "# 1. HANDLING MISSING VALUES"
   ]
  },
  {
   "cell_type": "code",
   "execution_count": 21,
   "id": "89cbb106",
   "metadata": {},
   "outputs": [
    {
     "data": {
      "text/plain": [
       "carat        0.183537\n",
       "cut          0.000000\n",
       "color        0.103819\n",
       "clarity      0.000000\n",
       "table        0.116796\n",
       "x            0.000000\n",
       "y            0.000000\n",
       "z            0.000000\n",
       "price_new    0.000000\n",
       "dtype: float64"
      ]
     },
     "execution_count": 21,
     "metadata": {},
     "output_type": "execute_result"
    }
   ],
   "source": [
    "data.isna().sum() / data.shape[0] *100"
   ]
  },
  {
   "cell_type": "code",
   "execution_count": 22,
   "id": "334e12cd",
   "metadata": {},
   "outputs": [
    {
     "data": {
      "image/png": "[encoded data removed]",
      "text/plain": [
       "<Figure size 640x480 with 1 Axes>"
      ]
     },
     "metadata": {},
     "output_type": "display_data"
    }
   ],
   "source": [
    "plt.hist(data['carat'])\n",
    "plt.title(\"Skewness of Carat\")\n",
    "plt.xlabel(\"Carat\")\n",
    "plt.ylabel(\"Frequency\")\n",
    "plt.show()"
   ]
  },
  {
   "cell_type": "code",
   "execution_count": 23,
   "id": "e2fda317",
   "metadata": {},
   "outputs": [],
   "source": [
    "carat_median=data['carat'].median()\n",
    "data['carat']=data['carat'].fillna(carat_median)"
   ]
  },
  {
   "cell_type": "code",
   "execution_count": 24,
   "id": "ede8eca8",
   "metadata": {},
   "outputs": [
    {
     "data": {
      "text/plain": [
       "carat        float64\n",
       "cut           object\n",
       "color         object\n",
       "clarity       object\n",
       "table        float64\n",
       "x            float64\n",
       "y            float64\n",
       "z            float64\n",
       "price_new    float64\n",
       "dtype: object"
      ]
     },
     "execution_count": 24,
     "metadata": {},
     "output_type": "execute_result"
    }
   ],
   "source": [
    "data.dtypes"
   ]
  },
  {
   "cell_type": "code",
   "execution_count": 25,
   "id": "7a641362",
   "metadata": {},
   "outputs": [
    {
     "data": {
      "text/plain": [
       "carat         0\n",
       "cut           0\n",
       "color        56\n",
       "clarity       0\n",
       "table        63\n",
       "x             0\n",
       "y             0\n",
       "z             0\n",
       "price_new     0\n",
       "dtype: int64"
      ]
     },
     "execution_count": 25,
     "metadata": {},
     "output_type": "execute_result"
    }
   ],
   "source": [
    "data.isna().sum()"
   ]
  },
  {
   "cell_type": "code",
   "execution_count": 26,
   "id": "b3653186",
   "metadata": {},
   "outputs": [
    {
     "data": {
      "text/plain": [
       "array(['E', 'I', 'J', 'H', 'F', 'G', 'D', nan], dtype=object)"
      ]
     },
     "execution_count": 26,
     "metadata": {},
     "output_type": "execute_result"
    }
   ],
   "source": [
    "data['color'].unique()"
   ]
  },
  {
   "cell_type": "code",
   "execution_count": 27,
   "id": "aabc2096",
   "metadata": {},
   "outputs": [
    {
     "data": {
      "text/plain": [
       "G    11236\n",
       "E     9797\n",
       "F     9542\n",
       "H     8304\n",
       "D     6775\n",
       "I     5422\n",
       "J     2808\n",
       "Name: color, dtype: int64"
      ]
     },
     "execution_count": 27,
     "metadata": {},
     "output_type": "execute_result"
    }
   ],
   "source": [
    "data['color'].value_counts()"
   ]
  },
  {
   "cell_type": "code",
   "execution_count": 28,
   "id": "368c552e",
   "metadata": {},
   "outputs": [],
   "source": [
    "data['color']=data['color'].fillna('G')\n"
   ]
  },
  {
   "cell_type": "code",
   "execution_count": 29,
   "id": "3f67bfc1",
   "metadata": {},
   "outputs": [
    {
     "data": {
      "text/plain": [
       "carat         0\n",
       "cut           0\n",
       "color         0\n",
       "clarity       0\n",
       "table        63\n",
       "x             0\n",
       "y             0\n",
       "z             0\n",
       "price_new     0\n",
       "dtype: int64"
      ]
     },
     "execution_count": 29,
     "metadata": {},
     "output_type": "execute_result"
    }
   ],
   "source": [
    "data.isna().sum()"
   ]
  },
  {
   "cell_type": "code",
   "execution_count": 30,
   "id": "3638b22c",
   "metadata": {},
   "outputs": [
    {
     "data": {
      "image/png": "[encoded data removed]",
      "text/plain": [
       "<Figure size 640x480 with 1 Axes>"
      ]
     },
     "metadata": {},
     "output_type": "display_data"
    }
   ],
   "source": [
    "plt.hist(data['table'])\n",
    "plt.title(\"Skewness of table\")\n",
    "plt.xlabel(\"table\")\n",
    "plt.ylabel(\"frequency\")\n",
    "plt.show()\n",
    "          "
   ]
  },
  {
   "cell_type": "code",
   "execution_count": 31,
   "id": "363c4514",
   "metadata": {},
   "outputs": [],
   "source": [
    "table_median=data['table'].median()\n",
    "data['table']=data['table'].fillna(table_median)"
   ]
  },
  {
   "cell_type": "code",
   "execution_count": 32,
   "id": "6b431dde",
   "metadata": {},
   "outputs": [
    {
     "data": {
      "text/plain": [
       "carat        0\n",
       "cut          0\n",
       "color        0\n",
       "clarity      0\n",
       "table        0\n",
       "x            0\n",
       "y            0\n",
       "z            0\n",
       "price_new    0\n",
       "dtype: int64"
      ]
     },
     "execution_count": 32,
     "metadata": {},
     "output_type": "execute_result"
    }
   ],
   "source": [
    "data.isna().sum()"
   ]
  },
  {
   "cell_type": "markdown",
   "id": "b51a9bc9",
   "metadata": {},
   "source": [
    "# 2 Outlier Detection"
   ]
  },
  {
   "cell_type": "code",
   "execution_count": 33,
   "id": "e34608b4",
   "metadata": {},
   "outputs": [
    {
     "data": {
      "text/plain": [
       "carat        float64\n",
       "cut           object\n",
       "color         object\n",
       "clarity       object\n",
       "table        float64\n",
       "x            float64\n",
       "y            float64\n",
       "z            float64\n",
       "price_new    float64\n",
       "dtype: object"
      ]
     },
     "execution_count": 33,
     "metadata": {},
     "output_type": "execute_result"
    }
   ],
   "source": [
    "data.dtypes"
   ]
  },
  {
   "cell_type": "code",
   "execution_count": 34,
   "id": "2f6f164d",
   "metadata": {},
   "outputs": [],
   "source": [
    "cols=['carat','table', 'x', 'y', 'z', 'price_new']"
   ]
  },
  {
   "cell_type": "code",
   "execution_count": 35,
   "id": "5c810056",
   "metadata": {},
   "outputs": [
    {
     "name": "stderr",
     "output_type": "stream",
     "text": [
      "C:\\ProgramData\\Anaconda3\\lib\\site-packages\\seaborn\\_decorators.py:36: FutureWarning: Pass the following variable as a keyword arg: x. From version 0.12, the only valid positional argument will be `data`, and passing other arguments without an explicit keyword will result in an error or misinterpretation.\n",
      "  warnings.warn(\n"
     ]
    },
    {
     "data": {
      "image/png": "[encoded data removed]",
      "text/plain": [
       "<Figure size 300x300 with 1 Axes>"
      ]
     },
     "metadata": {},
     "output_type": "display_data"
    },
    {
     "name": "stderr",
     "output_type": "stream",
     "text": [
      "C:\\ProgramData\\Anaconda3\\lib\\site-packages\\seaborn\\_decorators.py:36: FutureWarning: Pass the following variable as a keyword arg: x. From version 0.12, the only valid positional argument will be `data`, and passing other arguments without an explicit keyword will result in an error or misinterpretation.\n",
      "  warnings.warn(\n"
     ]
    },
    {
     "data": {
      "image/png": "[encoded data removed]",
      "text/plain": [
       "<Figure size 300x300 with 1 Axes>"
      ]
     },
     "metadata": {},
     "output_type": "display_data"
    },
    {
     "name": "stderr",
     "output_type": "stream",
     "text": [
      "C:\\ProgramData\\Anaconda3\\lib\\site-packages\\seaborn\\_decorators.py:36: FutureWarning: Pass the following variable as a keyword arg: x. From version 0.12, the only valid positional argument will be `data`, and passing other arguments without an explicit keyword will result in an error or misinterpretation.\n",
      "  warnings.warn(\n"
     ]
    },
    {
     "data": {
      "image/png": "[encoded data removed]",
      "text/plain": [
       "<Figure size 300x300 with 1 Axes>"
      ]
     },
     "metadata": {},
     "output_type": "display_data"
    },
    {
     "name": "stderr",
     "output_type": "stream",
     "text": [
      "C:\\ProgramData\\Anaconda3\\lib\\site-packages\\seaborn\\_decorators.py:36: FutureWarning: Pass the following variable as a keyword arg: x. From version 0.12, the only valid positional argument will be `data`, and passing other arguments without an explicit keyword will result in an error or misinterpretation.\n",
      "  warnings.warn(\n"
     ]
    },
    {
     "data": {
      "image/png": "[encoded data removed]",
      "text/plain": [
       "<Figure size 300x300 with 1 Axes>"
      ]
     },
     "metadata": {},
     "output_type": "display_data"
    },
    {
     "name": "stderr",
     "output_type": "stream",
     "text": [
      "C:\\ProgramData\\Anaconda3\\lib\\site-packages\\seaborn\\_decorators.py:36: FutureWarning: Pass the following variable as a keyword arg: x. From version 0.12, the only valid positional argument will be `data`, and passing other arguments without an explicit keyword will result in an error or misinterpretation.\n",
      "  warnings.warn(\n"
     ]
    },
    {
     "data": {
      "image/png": "[encoded data removed]",
      "text/plain": [
       "<Figure size 300x300 with 1 Axes>"
      ]
     },
     "metadata": {},
     "output_type": "display_data"
    },
    {
     "name": "stderr",
     "output_type": "stream",
     "text": [
      "C:\\ProgramData\\Anaconda3\\lib\\site-packages\\seaborn\\_decorators.py:36: FutureWarning: Pass the following variable as a keyword arg: x. From version 0.12, the only valid positional argument will be `data`, and passing other arguments without an explicit keyword will result in an error or misinterpretation.\n",
      "  warnings.warn(\n"
     ]
    },
    {
     "data": {
      "image/png": "[encoded data removed]",
      "text/plain": [
       "<Figure size 300x300 with 1 Axes>"
      ]
     },
     "metadata": {},
     "output_type": "display_data"
    }
   ],
   "source": [
    "for ca in cols:\n",
    "    plt.figure(figsize=(3,3))                       \n",
    "    sns.boxplot(data[ca])\n",
    "    plt.title(ca)\n",
    "    plt.show()"
   ]
  },
  {
   "cell_type": "code",
   "execution_count": 36,
   "id": "b3545e8a",
   "metadata": {},
   "outputs": [],
   "source": [
    "# Method 1 Zscore approach"
   ]
  },
  {
   "cell_type": "code",
   "execution_count": 37,
   "id": "18dc8272",
   "metadata": {},
   "outputs": [],
   "source": [
    "import scipy.stats as stats"
   ]
  },
  {
   "cell_type": "code",
   "execution_count": 38,
   "id": "4a48becd",
   "metadata": {},
   "outputs": [],
   "source": [
    "data['zr']=stats.zscore(data['carat'])"
   ]
  },
  {
   "cell_type": "code",
   "execution_count": 39,
   "id": "3cfbefeb",
   "metadata": {},
   "outputs": [
    {
     "data": {
      "text/html": [
       "<div>\n",
       "<style scoped>\n",
       "    .dataframe tbody tr th:only-of-type {\n",
       "        vertical-align: middle;\n",
       "    }\n",
       "\n",
       "    .dataframe tbody tr th {\n",
       "        vertical-align: top;\n",
       "    }\n",
       "\n",
       "    .dataframe thead th {\n",
       "        text-align: right;\n",
       "    }\n",
       "</style>\n",
       "<table border=\"1\" class=\"dataframe\">\n",
       "  <thead>\n",
       "    <tr style=\"text-align: right;\">\n",
       "      <th></th>\n",
       "      <th>carat</th>\n",
       "      <th>cut</th>\n",
       "      <th>color</th>\n",
       "      <th>clarity</th>\n",
       "      <th>table</th>\n",
       "      <th>x</th>\n",
       "      <th>y</th>\n",
       "      <th>z</th>\n",
       "      <th>price_new</th>\n",
       "      <th>zr</th>\n",
       "    </tr>\n",
       "  </thead>\n",
       "  <tbody>\n",
       "    <tr>\n",
       "      <th>13757</th>\n",
       "      <td>2.22</td>\n",
       "      <td>Fair</td>\n",
       "      <td>J</td>\n",
       "      <td>I1</td>\n",
       "      <td>56.0</td>\n",
       "      <td>8.04</td>\n",
       "      <td>8.02</td>\n",
       "      <td>5.36</td>\n",
       "      <td>2803.5</td>\n",
       "      <td>3.000084</td>\n",
       "    </tr>\n",
       "    <tr>\n",
       "      <th>14138</th>\n",
       "      <td>2.27</td>\n",
       "      <td>Fair</td>\n",
       "      <td>J</td>\n",
       "      <td>I1</td>\n",
       "      <td>55.0</td>\n",
       "      <td>8.05</td>\n",
       "      <td>8.00</td>\n",
       "      <td>5.43</td>\n",
       "      <td>2866.5</td>\n",
       "      <td>3.105567</td>\n",
       "    </tr>\n",
       "    <tr>\n",
       "      <th>15684</th>\n",
       "      <td>2.49</td>\n",
       "      <td>Fair</td>\n",
       "      <td>J</td>\n",
       "      <td>I1</td>\n",
       "      <td>58.0</td>\n",
       "      <td>8.26</td>\n",
       "      <td>8.18</td>\n",
       "      <td>5.45</td>\n",
       "      <td>3144.5</td>\n",
       "      <td>3.569696</td>\n",
       "    </tr>\n",
       "    <tr>\n",
       "      <th>16283</th>\n",
       "      <td>3.00</td>\n",
       "      <td>Very Good</td>\n",
       "      <td>H</td>\n",
       "      <td>I1</td>\n",
       "      <td>55.0</td>\n",
       "      <td>9.23</td>\n",
       "      <td>9.10</td>\n",
       "      <td>5.77</td>\n",
       "      <td>3256.0</td>\n",
       "      <td>4.645630</td>\n",
       "    </tr>\n",
       "    <tr>\n",
       "      <th>16439</th>\n",
       "      <td>2.22</td>\n",
       "      <td>Fair</td>\n",
       "      <td>H</td>\n",
       "      <td>I1</td>\n",
       "      <td>55.0</td>\n",
       "      <td>7.77</td>\n",
       "      <td>7.74</td>\n",
       "      <td>5.44</td>\n",
       "      <td>3282.0</td>\n",
       "      <td>3.000084</td>\n",
       "    </tr>\n",
       "    <tr>\n",
       "      <th>...</th>\n",
       "      <td>...</td>\n",
       "      <td>...</td>\n",
       "      <td>...</td>\n",
       "      <td>...</td>\n",
       "      <td>...</td>\n",
       "      <td>...</td>\n",
       "      <td>...</td>\n",
       "      <td>...</td>\n",
       "      <td>...</td>\n",
       "      <td>...</td>\n",
       "    </tr>\n",
       "    <tr>\n",
       "      <th>27727</th>\n",
       "      <td>2.61</td>\n",
       "      <td>Ideal</td>\n",
       "      <td>I</td>\n",
       "      <td>SI2</td>\n",
       "      <td>56.0</td>\n",
       "      <td>8.85</td>\n",
       "      <td>8.73</td>\n",
       "      <td>5.46</td>\n",
       "      <td>9378.0</td>\n",
       "      <td>3.822857</td>\n",
       "    </tr>\n",
       "    <tr>\n",
       "      <th>27731</th>\n",
       "      <td>2.55</td>\n",
       "      <td>Premium</td>\n",
       "      <td>I</td>\n",
       "      <td>VS1</td>\n",
       "      <td>62.0</td>\n",
       "      <td>8.70</td>\n",
       "      <td>8.65</td>\n",
       "      <td>5.36</td>\n",
       "      <td>9383.0</td>\n",
       "      <td>3.696276</td>\n",
       "    </tr>\n",
       "    <tr>\n",
       "      <th>27739</th>\n",
       "      <td>2.80</td>\n",
       "      <td>Good</td>\n",
       "      <td>G</td>\n",
       "      <td>SI2</td>\n",
       "      <td>58.0</td>\n",
       "      <td>8.90</td>\n",
       "      <td>8.85</td>\n",
       "      <td>4.80</td>\n",
       "      <td>9394.0</td>\n",
       "      <td>4.223695</td>\n",
       "    </tr>\n",
       "    <tr>\n",
       "      <th>27744</th>\n",
       "      <td>2.29</td>\n",
       "      <td>Premium</td>\n",
       "      <td>I</td>\n",
       "      <td>SI1</td>\n",
       "      <td>59.0</td>\n",
       "      <td>8.52</td>\n",
       "      <td>8.45</td>\n",
       "      <td>5.24</td>\n",
       "      <td>9398.5</td>\n",
       "      <td>3.147761</td>\n",
       "    </tr>\n",
       "    <tr>\n",
       "      <th>27749</th>\n",
       "      <td>2.29</td>\n",
       "      <td>Premium</td>\n",
       "      <td>I</td>\n",
       "      <td>VS2</td>\n",
       "      <td>60.0</td>\n",
       "      <td>8.50</td>\n",
       "      <td>8.47</td>\n",
       "      <td>5.16</td>\n",
       "      <td>9411.5</td>\n",
       "      <td>3.147761</td>\n",
       "    </tr>\n",
       "  </tbody>\n",
       "</table>\n",
       "<p>439 rows × 10 columns</p>\n",
       "</div>"
      ],
      "text/plain": [
       "       carat        cut color clarity  table     x     y     z  price_new  \\\n",
       "13757   2.22       Fair     J      I1   56.0  8.04  8.02  5.36     2803.5   \n",
       "14138   2.27       Fair     J      I1   55.0  8.05  8.00  5.43     2866.5   \n",
       "15684   2.49       Fair     J      I1   58.0  8.26  8.18  5.45     3144.5   \n",
       "16283   3.00  Very Good     H      I1   55.0  9.23  9.10  5.77     3256.0   \n",
       "16439   2.22       Fair     H      I1   55.0  7.77  7.74  5.44     3282.0   \n",
       "...      ...        ...   ...     ...    ...   ...   ...   ...        ...   \n",
       "27727   2.61      Ideal     I     SI2   56.0  8.85  8.73  5.46     9378.0   \n",
       "27731   2.55    Premium     I     VS1   62.0  8.70  8.65  5.36     9383.0   \n",
       "27739   2.80       Good     G     SI2   58.0  8.90  8.85  4.80     9394.0   \n",
       "27744   2.29    Premium     I     SI1   59.0  8.52  8.45  5.24     9398.5   \n",
       "27749   2.29    Premium     I     VS2   60.0  8.50  8.47  5.16     9411.5   \n",
       "\n",
       "             zr  \n",
       "13757  3.000084  \n",
       "14138  3.105567  \n",
       "15684  3.569696  \n",
       "16283  4.645630  \n",
       "16439  3.000084  \n",
       "...         ...  \n",
       "27727  3.822857  \n",
       "27731  3.696276  \n",
       "27739  4.223695  \n",
       "27744  3.147761  \n",
       "27749  3.147761  \n",
       "\n",
       "[439 rows x 10 columns]"
      ]
     },
     "execution_count": 39,
     "metadata": {},
     "output_type": "execute_result"
    }
   ],
   "source": [
    "data[(data['zr']<-3)|(data['zr']>3)]"
   ]
  },
  {
   "cell_type": "code",
   "execution_count": 40,
   "id": "8334a0db",
   "metadata": {},
   "outputs": [
    {
     "data": {
      "text/plain": [
       "Int64Index([13757, 14138, 15684, 16283, 16439, 16637, 17181, 17196, 17466,\n",
       "            17560,\n",
       "            ...\n",
       "            27679, 27681, 27684, 27685, 27726, 27727, 27731, 27739, 27744,\n",
       "            27749],\n",
       "           dtype='int64', length=439)"
      ]
     },
     "execution_count": 40,
     "metadata": {},
     "output_type": "execute_result"
    }
   ],
   "source": [
    "data[(data['zr']<-3)|(data['zr']>3)].index"
   ]
  },
  {
   "cell_type": "code",
   "execution_count": 41,
   "id": "7d586f04",
   "metadata": {},
   "outputs": [],
   "source": [
    "data=data.drop([13757, 14138, 15684, 16283, 16439, 16637, 17181, 17196, 17466,\n",
    "            17560,\n",
    "            27679, 27681, 27684, 27685, 27726, 27727, 27731, 27739, 27744,\n",
    "            27749])"
   ]
  },
  {
   "cell_type": "code",
   "execution_count": 42,
   "id": "532d61cf",
   "metadata": {},
   "outputs": [
    {
     "data": {
      "image/png": "[encoded data removed]",
      "text/plain": [
       "<Figure size 640x480 with 1 Axes>"
      ]
     },
     "metadata": {},
     "output_type": "display_data"
    }
   ],
   "source": [
    "sns.boxplot(y=(data['carat']))\n",
    "plt.show()"
   ]
  },
  {
   "cell_type": "code",
   "execution_count": 43,
   "id": "66eab194",
   "metadata": {},
   "outputs": [],
   "source": [
    "# method 2 IQR"
   ]
  },
  {
   "cell_type": "code",
   "execution_count": 44,
   "id": "d9fa3f93",
   "metadata": {},
   "outputs": [],
   "source": [
    "q1=data['carat'].quantile(0.25)\n",
    "q2=data['carat'].quantile(0.5)\n",
    "q3=data['carat'].quantile(0.75)"
   ]
  },
  {
   "cell_type": "code",
   "execution_count": 45,
   "id": "b67af13b",
   "metadata": {},
   "outputs": [
    {
     "name": "stdout",
     "output_type": "stream",
     "text": [
      "IQR 0.64\n",
      "Lower Boundary: -0.5599999999999999 Upper Boundary 2.0\n"
     ]
    }
   ],
   "source": [
    "IQR=q3-q1\n",
    "lb=q1-(1.5*IQR)\n",
    "ub=q3+(1.5*IQR)\n",
    "print(\"IQR\",IQR)\n",
    "print('Lower Boundary:',lb,\"Upper Boundary\",ub)"
   ]
  },
  {
   "cell_type": "code",
   "execution_count": 46,
   "id": "6062fe01",
   "metadata": {},
   "outputs": [
    {
     "name": "stderr",
     "output_type": "stream",
     "text": [
      "C:\\ProgramData\\Anaconda3\\lib\\site-packages\\seaborn\\distributions.py:2619: FutureWarning: `distplot` is a deprecated function and will be removed in a future version. Please adapt your code to use either `displot` (a figure-level function with similar flexibility) or `histplot` (an axes-level function for histograms).\n",
      "  warnings.warn(msg, FutureWarning)\n"
     ]
    },
    {
     "data": {
      "image/png": "[encoded data removed]",
      "text/plain": [
       "<Figure size 640x480 with 1 Axes>"
      ]
     },
     "metadata": {},
     "output_type": "display_data"
    }
   ],
   "source": [
    "sns.distplot(data['carat'])\n",
    "plt.axvline(ub, color = \"r\")\n",
    "plt.axvline(lb, color = \"r\")\n",
    "plt.axvline(q1, color = \"g\")\n",
    "plt.axvline(q3, color = \"g\")\n",
    "plt.show()"
   ]
  },
  {
   "cell_type": "code",
   "execution_count": 47,
   "id": "0b6b3d38",
   "metadata": {},
   "outputs": [
    {
     "data": {
      "text/plain": [
       "Int64Index([12246, 13002, 13118, 13991, 13992, 14912, 14913, 15151, 15319,\n",
       "            15781,\n",
       "            ...\n",
       "            27725, 27728, 27730, 27734, 27736, 27737, 27738, 27741, 27742,\n",
       "            27746],\n",
       "           dtype='int64', length=1869)"
      ]
     },
     "execution_count": 47,
     "metadata": {},
     "output_type": "execute_result"
    }
   ],
   "source": [
    "data[(data['carat']<lb) |(data['carat']>ub)].index"
   ]
  },
  {
   "cell_type": "code",
   "execution_count": 48,
   "id": "be845d42",
   "metadata": {},
   "outputs": [],
   "source": [
    "data=data.drop([12246, 13002, 13118, 13991, 13992, 14912, 14913, 15151, 15319,\n",
    "            15781,\n",
    "            27725, 27728, 27730, 27734, 27736, 27737, 27738, 27741, 27742,\n",
    "            27746])"
   ]
  },
  {
   "cell_type": "code",
   "execution_count": 49,
   "id": "37847ac7",
   "metadata": {},
   "outputs": [
    {
     "name": "stderr",
     "output_type": "stream",
     "text": [
      "C:\\ProgramData\\Anaconda3\\lib\\site-packages\\seaborn\\distributions.py:2619: FutureWarning: `distplot` is a deprecated function and will be removed in a future version. Please adapt your code to use either `displot` (a figure-level function with similar flexibility) or `histplot` (an axes-level function for histograms).\n",
      "  warnings.warn(msg, FutureWarning)\n"
     ]
    },
    {
     "data": {
      "image/png": "[encoded data removed]",
      "text/plain": [
       "<Figure size 640x480 with 1 Axes>"
      ]
     },
     "metadata": {},
     "output_type": "display_data"
    }
   ],
   "source": [
    "sns.distplot(data['carat'])\n",
    "plt.axvline(ub, color = \"r\")\n",
    "plt.axvline(lb, color = \"r\")\n",
    "plt.axvline(q1, color = \"g\")\n",
    "plt.axvline(q3, color = \"g\")\n",
    "plt.show()"
   ]
  },
  {
   "cell_type": "code",
   "execution_count": 50,
   "id": "272eb2af",
   "metadata": {},
   "outputs": [
    {
     "data": {
      "image/png": "[encoded data removed]",
      "text/plain": [
       "<Figure size 640x480 with 1 Axes>"
      ]
     },
     "metadata": {},
     "output_type": "display_data"
    }
   ],
   "source": [
    "sns.boxplot(y=(data['carat']))\n",
    "plt.show()"
   ]
  },
  {
   "cell_type": "code",
   "execution_count": 51,
   "id": "dfe5dd0d",
   "metadata": {},
   "outputs": [
    {
     "data": {
      "text/plain": [
       "(53900, 10)"
      ]
     },
     "execution_count": 51,
     "metadata": {},
     "output_type": "execute_result"
    }
   ],
   "source": [
    "data.shape"
   ]
  },
  {
   "cell_type": "code",
   "execution_count": 52,
   "id": "d41feaf9",
   "metadata": {},
   "outputs": [],
   "source": [
    "# Outlier-Table"
   ]
  },
  {
   "cell_type": "code",
   "execution_count": 53,
   "id": "31276054",
   "metadata": {},
   "outputs": [],
   "source": [
    "# method 1 Zscore"
   ]
  },
  {
   "cell_type": "code",
   "execution_count": 54,
   "id": "369e1865",
   "metadata": {},
   "outputs": [],
   "source": [
    "data['zr']=stats.zscore(data['table'])\n",
    "                       "
   ]
  },
  {
   "cell_type": "code",
   "execution_count": 55,
   "id": "17fd70b4",
   "metadata": {},
   "outputs": [
    {
     "data": {
      "text/plain": [
       "Int64Index([    2,    91,   227,   296,   314,   356,   359,   526,   712,\n",
       "              771,\n",
       "            ...\n",
       "            52865, 53064, 53154, 53226, 53503, 53542, 53660, 53695, 53697,\n",
       "            53785],\n",
       "           dtype='int64', length=336)"
      ]
     },
     "execution_count": 55,
     "metadata": {},
     "output_type": "execute_result"
    }
   ],
   "source": [
    "data[(data['zr']<-3)|(data['zr']>3)].index"
   ]
  },
  {
   "cell_type": "code",
   "execution_count": 56,
   "id": "d929fb55",
   "metadata": {},
   "outputs": [],
   "source": [
    "data=data.drop([    2,    91,   227,   296,   314,   356,   359,   526,   712,\n",
    "              771,\n",
    "            52865, 53064, 53154, 53226, 53503, 53542, 53660, 53695, 53697,\n",
    "            53785])"
   ]
  },
  {
   "cell_type": "code",
   "execution_count": 57,
   "id": "238fb003",
   "metadata": {},
   "outputs": [
    {
     "data": {
      "image/png": "[encoded data removed]",
      "text/plain": [
       "<Figure size 640x480 with 1 Axes>"
      ]
     },
     "metadata": {},
     "output_type": "display_data"
    }
   ],
   "source": [
    "sns.boxplot(y=(data['table']))\n",
    "plt.show()"
   ]
  },
  {
   "cell_type": "code",
   "execution_count": 58,
   "id": "eefdd18a",
   "metadata": {},
   "outputs": [],
   "source": [
    "# method 2 IQR"
   ]
  },
  {
   "cell_type": "code",
   "execution_count": 59,
   "id": "685d65eb",
   "metadata": {},
   "outputs": [],
   "source": [
    "q1=data['table'].quantile(0.25)\n",
    "q2=data['table'].quantile(0.5)\n",
    "q3=data['table'].quantile(0.75)"
   ]
  },
  {
   "cell_type": "code",
   "execution_count": 60,
   "id": "60bfb4f5",
   "metadata": {},
   "outputs": [
    {
     "name": "stdout",
     "output_type": "stream",
     "text": [
      "IQR: 3.0\n",
      "Lower Boundary 51.5 Upper Boundary 63.5\n"
     ]
    }
   ],
   "source": [
    "IQR=q3-q1\n",
    "lb=q1-(1.5*IQR)\n",
    "ub=q3+(1.5*IQR)\n",
    "print(\"IQR:\", IQR)\n",
    "print(\"Lower Boundary\",lb,\"Upper Boundary\", ub)"
   ]
  },
  {
   "cell_type": "code",
   "execution_count": 61,
   "id": "2c0194f9",
   "metadata": {},
   "outputs": [
    {
     "name": "stderr",
     "output_type": "stream",
     "text": [
      "C:\\ProgramData\\Anaconda3\\lib\\site-packages\\seaborn\\distributions.py:2619: FutureWarning: `distplot` is a deprecated function and will be removed in a future version. Please adapt your code to use either `displot` (a figure-level function with similar flexibility) or `histplot` (an axes-level function for histograms).\n",
      "  warnings.warn(msg, FutureWarning)\n"
     ]
    },
    {
     "data": {
      "image/png": "[encoded data removed]",
      "text/plain": [
       "<Figure size 640x480 with 1 Axes>"
      ]
     },
     "metadata": {},
     "output_type": "display_data"
    }
   ],
   "source": [
    "sns.distplot(data['table'])\n",
    "plt.axvline(ub, color = \"r\")\n",
    "plt.axvline(lb, color = \"r\")\n",
    "plt.axvline(q1, color = \"g\")\n",
    "plt.axvline(q3, color = \"g\")\n",
    "plt.show()"
   ]
  },
  {
   "cell_type": "code",
   "execution_count": 62,
   "id": "8c9dd066",
   "metadata": {},
   "outputs": [
    {
     "data": {
      "text/plain": [
       "Int64Index([  145,   219,   239,   461,   504,   777,   868,   919,   929,\n",
       "              932,\n",
       "            ...\n",
       "            52731, 52748, 52825, 52860, 52861, 52869, 52916, 53577, 53756,\n",
       "            53757],\n",
       "           dtype='int64', length=584)"
      ]
     },
     "execution_count": 62,
     "metadata": {},
     "output_type": "execute_result"
    }
   ],
   "source": [
    "data[(data['table']<lb)|(data['table']>ub)].index"
   ]
  },
  {
   "cell_type": "code",
   "execution_count": 63,
   "id": "4015b5f1",
   "metadata": {},
   "outputs": [],
   "source": [
    "data=data.drop([    0,     1,     3,     4,     5,     6,     7,     8,     9,\n",
    "               10,\n",
    "            53930, 53931, 53932, 53933, 53934, 53935, 53936, 53937, 53938,\n",
    "            53939])"
   ]
  },
  {
   "cell_type": "code",
   "execution_count": 64,
   "id": "dfcab066",
   "metadata": {},
   "outputs": [
    {
     "data": {
      "image/png": "[encoded data removed]",
      "text/plain": [
       "<Figure size 640x480 with 1 Axes>"
      ]
     },
     "metadata": {},
     "output_type": "display_data"
    }
   ],
   "source": [
    "sns.boxplot(y=data['table'])\n",
    "plt.show()"
   ]
  },
  {
   "cell_type": "code",
   "execution_count": 65,
   "id": "6d345f34",
   "metadata": {},
   "outputs": [
    {
     "data": {
      "text/plain": [
       "(53860, 10)"
      ]
     },
     "execution_count": 65,
     "metadata": {},
     "output_type": "execute_result"
    }
   ],
   "source": [
    "data.shape"
   ]
  },
  {
   "cell_type": "code",
   "execution_count": 66,
   "id": "551e98d7",
   "metadata": {},
   "outputs": [],
   "source": [
    "# Outlier x"
   ]
  },
  {
   "cell_type": "code",
   "execution_count": 67,
   "id": "710170d3",
   "metadata": {},
   "outputs": [],
   "source": [
    "# method Zscore"
   ]
  },
  {
   "cell_type": "code",
   "execution_count": 68,
   "id": "5c1a6ded",
   "metadata": {},
   "outputs": [],
   "source": [
    "data['zr']=stats.zscore(data['x'])"
   ]
  },
  {
   "cell_type": "code",
   "execution_count": 69,
   "id": "6f3084fc",
   "metadata": {},
   "outputs": [
    {
     "data": {
      "text/plain": [
       "Int64Index([11182, 11963, 15951, 19339, 19866, 21758, 21862, 22428, 22540,\n",
       "            22741, 22831, 23580, 23644, 24131, 24297, 24328, 24520, 24816,\n",
       "            25460, 25850, 25998, 25999, 26100, 26243, 26431, 26444, 26467,\n",
       "            26534, 26932, 27016, 27130, 27415, 27429, 27514, 27630, 27638,\n",
       "            27649, 49556, 49557],\n",
       "           dtype='int64')"
      ]
     },
     "execution_count": 69,
     "metadata": {},
     "output_type": "execute_result"
    }
   ],
   "source": [
    "data[(data['zr']<-3)|(data['zr']>3)].index"
   ]
  },
  {
   "cell_type": "code",
   "execution_count": 70,
   "id": "bdc6a592",
   "metadata": {},
   "outputs": [],
   "source": [
    "data=data.drop([11182, 11963, 15951, 19339, 19866, 21758, 21862, 22428, 22540,\n",
    "            22741, 22831, 23580, 23644, 24131, 24297, 24328, 24520, 24816,\n",
    "            25460, 25850, 25998, 25999, 26100, 26243, 26431, 26444, 26467,\n",
    "            26534, 26932, 27016, 27130, 27415, 27429, 27514, 27630, 27638,\n",
    "            27649, 49556, 49557])"
   ]
  },
  {
   "cell_type": "code",
   "execution_count": 71,
   "id": "c77b687f",
   "metadata": {},
   "outputs": [
    {
     "data": {
      "image/png": "[encoded data removed]",
      "text/plain": [
       "<Figure size 640x480 with 1 Axes>"
      ]
     },
     "metadata": {},
     "output_type": "display_data"
    }
   ],
   "source": [
    "sns.boxplot(y=data['x'])\n",
    "plt.show()"
   ]
  },
  {
   "cell_type": "code",
   "execution_count": 72,
   "id": "f6717502",
   "metadata": {},
   "outputs": [],
   "source": [
    "# Method 2 IQR"
   ]
  },
  {
   "cell_type": "code",
   "execution_count": 73,
   "id": "27685f61",
   "metadata": {},
   "outputs": [
    {
     "data": {
      "text/plain": [
       "Index(['carat', 'cut', 'color', 'clarity', 'table', 'x', 'y', 'z', 'price_new',\n",
       "       'zr'],\n",
       "      dtype='object')"
      ]
     },
     "execution_count": 73,
     "metadata": {},
     "output_type": "execute_result"
    }
   ],
   "source": [
    "data.columns"
   ]
  },
  {
   "cell_type": "code",
   "execution_count": 74,
   "id": "2229ff2a",
   "metadata": {},
   "outputs": [],
   "source": [
    "q1=data['x'].quantile(0.25)\n",
    "q2=data['x'].quantile(0.5)\n",
    "q3=data['x'].quantile(0.75)"
   ]
  },
  {
   "cell_type": "code",
   "execution_count": 75,
   "id": "f5d13bb2",
   "metadata": {},
   "outputs": [],
   "source": [
    "IQR=q3-q1\n",
    "\n",
    "lb=q1 - (1.5*IQR)\n",
    "ub=q3 + (1.5*IQR)"
   ]
  },
  {
   "cell_type": "code",
   "execution_count": 76,
   "id": "64644ada",
   "metadata": {},
   "outputs": [
    {
     "name": "stdout",
     "output_type": "stream",
     "text": [
      "IQR 1.83\n",
      "Upper Boundary 9.285\n",
      "Lower Boundary 1.9649999999999999\n"
     ]
    }
   ],
   "source": [
    "print('IQR',IQR)\n",
    "print(\"Upper Boundary\", ub)\n",
    "print('Lower Boundary',lb)"
   ]
  },
  {
   "cell_type": "code",
   "execution_count": 77,
   "id": "9423d661",
   "metadata": {},
   "outputs": [
    {
     "name": "stderr",
     "output_type": "stream",
     "text": [
      "C:\\ProgramData\\Anaconda3\\lib\\site-packages\\seaborn\\distributions.py:2619: FutureWarning: `distplot` is a deprecated function and will be removed in a future version. Please adapt your code to use either `displot` (a figure-level function with similar flexibility) or `histplot` (an axes-level function for histograms).\n",
      "  warnings.warn(msg, FutureWarning)\n"
     ]
    },
    {
     "data": {
      "image/png": "[encoded data removed]",
      "text/plain": [
       "<Figure size 640x480 with 1 Axes>"
      ]
     },
     "metadata": {},
     "output_type": "display_data"
    }
   ],
   "source": [
    "sns.distplot(data['x'])\n",
    "plt.axvline(ub, color = \"r\")\n",
    "plt.axvline(lb, color = \"r\")\n",
    "plt.axvline(q1, color = \"g\")\n",
    "plt.axvline(q3, color = \"g\")\n",
    "plt.show()"
   ]
  },
  {
   "cell_type": "code",
   "execution_count": 78,
   "id": "ca64b259",
   "metadata": {},
   "outputs": [
    {
     "data": {
      "text/plain": [
       "Int64Index([], dtype='int64')"
      ]
     },
     "execution_count": 78,
     "metadata": {},
     "output_type": "execute_result"
    }
   ],
   "source": [
    "data[(data['x']>ub) | (data['x']<lb)].index"
   ]
  },
  {
   "cell_type": "code",
   "execution_count": 79,
   "id": "d6b04609",
   "metadata": {},
   "outputs": [
    {
     "data": {
      "text/plain": [
       "Index(['carat', 'cut', 'color', 'clarity', 'table', 'x', 'y', 'z', 'price_new',\n",
       "       'zr'],\n",
       "      dtype='object')"
      ]
     },
     "execution_count": 79,
     "metadata": {},
     "output_type": "execute_result"
    }
   ],
   "source": [
    "data.columns\n"
   ]
  },
  {
   "cell_type": "code",
   "execution_count": 80,
   "id": "15c95664",
   "metadata": {},
   "outputs": [
    {
     "data": {
      "text/plain": [
       "(53821, 10)"
      ]
     },
     "execution_count": 80,
     "metadata": {},
     "output_type": "execute_result"
    }
   ],
   "source": [
    "data.shape"
   ]
  },
  {
   "cell_type": "code",
   "execution_count": 81,
   "id": "c1400545",
   "metadata": {},
   "outputs": [],
   "source": [
    "# outlier y"
   ]
  },
  {
   "cell_type": "code",
   "execution_count": 82,
   "id": "608694db",
   "metadata": {},
   "outputs": [],
   "source": [
    "# method 1 Z score"
   ]
  },
  {
   "cell_type": "code",
   "execution_count": 83,
   "id": "bfd65b41",
   "metadata": {},
   "outputs": [
    {
     "data": {
      "text/plain": [
       "Int64Index([24067, 49189], dtype='int64')"
      ]
     },
     "execution_count": 83,
     "metadata": {},
     "output_type": "execute_result"
    }
   ],
   "source": [
    "data['zr']=stats.zscore(data['y'])\n",
    "data[(data['zr']<-3)|(data['zr']>3)].index"
   ]
  },
  {
   "cell_type": "code",
   "execution_count": 84,
   "id": "dd31b4c3",
   "metadata": {},
   "outputs": [],
   "source": [
    "data=data.drop([24067, 49189])"
   ]
  },
  {
   "cell_type": "code",
   "execution_count": 85,
   "id": "9a13736a",
   "metadata": {},
   "outputs": [
    {
     "data": {
      "image/png": "[encoded data removed]",
      "text/plain": [
       "<Figure size 640x480 with 1 Axes>"
      ]
     },
     "metadata": {},
     "output_type": "display_data"
    }
   ],
   "source": [
    "sns.boxplot(y=data['y'])\n",
    "plt.show()"
   ]
  },
  {
   "cell_type": "code",
   "execution_count": 86,
   "id": "fb054a83",
   "metadata": {},
   "outputs": [],
   "source": [
    "#method 2: IQR"
   ]
  },
  {
   "cell_type": "code",
   "execution_count": 87,
   "id": "2d359a64",
   "metadata": {},
   "outputs": [],
   "source": [
    "q1=data['y'].quantile(0.25)\n",
    "q2=data['y'].quantile(0.5)\n",
    "q3=data['y'].quantile(0.75)"
   ]
  },
  {
   "cell_type": "code",
   "execution_count": 88,
   "id": "a3aa4f60",
   "metadata": {},
   "outputs": [
    {
     "name": "stdout",
     "output_type": "stream",
     "text": [
      "1.8100000000000005\n",
      "Upper Boundary 9.245000000000001 Lower Boundary 2.004999999999999\n"
     ]
    }
   ],
   "source": [
    "IQR=q3-q1\n",
    "lb=q1-(1.5*IQR)\n",
    "ub=q3+(1.5*IQR)\n",
    "print(IQR)\n",
    "print(\"Upper Boundary\",ub, \"Lower Boundary\",lb)"
   ]
  },
  {
   "cell_type": "code",
   "execution_count": 89,
   "id": "3a3e04fb",
   "metadata": {},
   "outputs": [
    {
     "name": "stderr",
     "output_type": "stream",
     "text": [
      "C:\\ProgramData\\Anaconda3\\lib\\site-packages\\seaborn\\distributions.py:2619: FutureWarning: `distplot` is a deprecated function and will be removed in a future version. Please adapt your code to use either `displot` (a figure-level function with similar flexibility) or `histplot` (an axes-level function for histograms).\n",
      "  warnings.warn(msg, FutureWarning)\n"
     ]
    },
    {
     "data": {
      "image/png": "[encoded data removed]",
      "text/plain": [
       "<Figure size 640x480 with 1 Axes>"
      ]
     },
     "metadata": {},
     "output_type": "display_data"
    }
   ],
   "source": [
    "sns.distplot(data['y'])\n",
    "plt.axvline(ub, color = \"r\")\n",
    "plt.axvline(lb, color = \"r\")\n",
    "plt.axvline(q1, color = \"g\")\n",
    "plt.axvline(q3, color = \"g\")\n",
    "plt.show()"
   ]
  },
  {
   "cell_type": "code",
   "execution_count": 90,
   "id": "ba9e9670",
   "metadata": {},
   "outputs": [
    {
     "data": {
      "text/plain": [
       "Int64Index([], dtype='int64')"
      ]
     },
     "execution_count": 90,
     "metadata": {},
     "output_type": "execute_result"
    }
   ],
   "source": [
    "data[(data['y']<lb) | (data['y']>ub)].index"
   ]
  },
  {
   "cell_type": "code",
   "execution_count": 91,
   "id": "2b43bbbf",
   "metadata": {},
   "outputs": [
    {
     "data": {
      "image/png": "[encoded data removed]",
      "text/plain": [
       "<Figure size 640x480 with 1 Axes>"
      ]
     },
     "metadata": {},
     "output_type": "display_data"
    }
   ],
   "source": [
    "sns.boxplot(y=data['y'])\n",
    "plt.show()"
   ]
  },
  {
   "cell_type": "code",
   "execution_count": 92,
   "id": "a04025cb",
   "metadata": {},
   "outputs": [
    {
     "data": {
      "text/plain": [
       "(53819, 10)"
      ]
     },
     "execution_count": 92,
     "metadata": {},
     "output_type": "execute_result"
    }
   ],
   "source": [
    "data.shape"
   ]
  },
  {
   "cell_type": "code",
   "execution_count": 93,
   "id": "c346a6f9",
   "metadata": {},
   "outputs": [],
   "source": [
    "# outlier z"
   ]
  },
  {
   "cell_type": "code",
   "execution_count": 94,
   "id": "d6ca4f44",
   "metadata": {},
   "outputs": [],
   "source": [
    "# Method 2 IQR"
   ]
  },
  {
   "cell_type": "code",
   "execution_count": 95,
   "id": "535745a8",
   "metadata": {},
   "outputs": [],
   "source": [
    "q1=data['z'].quantile(0.25)\n",
    "q2=data['z'].quantile(0.5)\n",
    "q3=data['z'].quantile(0.75)\n"
   ]
  },
  {
   "cell_type": "code",
   "execution_count": 96,
   "id": "34ec5133",
   "metadata": {},
   "outputs": [
    {
     "name": "stdout",
     "output_type": "stream",
     "text": [
      "1.12\n",
      "Upper Boundary 5.710000000000001 Lower Boundary 1.23\n"
     ]
    }
   ],
   "source": [
    "IQR=q3-q1\n",
    "lb=q1-(1.5*IQR)\n",
    "ub=q3+(1.5*IQR)\n",
    "print(IQR)\n",
    "print(\"Upper Boundary\",ub,'Lower Boundary',lb)"
   ]
  },
  {
   "cell_type": "code",
   "execution_count": 97,
   "id": "2b76a003",
   "metadata": {},
   "outputs": [
    {
     "name": "stderr",
     "output_type": "stream",
     "text": [
      "C:\\ProgramData\\Anaconda3\\lib\\site-packages\\seaborn\\distributions.py:2619: FutureWarning: `distplot` is a deprecated function and will be removed in a future version. Please adapt your code to use either `displot` (a figure-level function with similar flexibility) or `histplot` (an axes-level function for histograms).\n",
      "  warnings.warn(msg, FutureWarning)\n"
     ]
    },
    {
     "data": {
      "image/png": "[encoded data removed]",
      "text/plain": [
       "<Figure size 640x480 with 1 Axes>"
      ]
     },
     "metadata": {},
     "output_type": "display_data"
    }
   ],
   "source": [
    "sns.distplot(data['z'])\n",
    "plt.axvline(ub, color = \"r\")\n",
    "plt.axvline(lb, color = \"r\")\n",
    "plt.axvline(q1, color = \"g\")\n",
    "plt.axvline(q3, color = \"g\")\n",
    "plt.show()"
   ]
  },
  {
   "cell_type": "code",
   "execution_count": 98,
   "id": "b5bcf962",
   "metadata": {},
   "outputs": [
    {
     "data": {
      "text/plain": [
       "Int64Index([14635, 19346, 23539, 26194, 26744, 26933, 27515, 27516, 27517,\n",
       "            27518, 48410],\n",
       "           dtype='int64')"
      ]
     },
     "execution_count": 98,
     "metadata": {},
     "output_type": "execute_result"
    }
   ],
   "source": [
    "data[(data['z']<lb)|(data['z']>ub)].index"
   ]
  },
  {
   "cell_type": "code",
   "execution_count": 99,
   "id": "d9a0a313",
   "metadata": {},
   "outputs": [],
   "source": [
    "data=data.drop([14635, 19346, 23539, 26194, 26744, 26933, 27515, 27516, 27517,\n",
    "            27518, 48410])"
   ]
  },
  {
   "cell_type": "code",
   "execution_count": 100,
   "id": "89a2d8bd",
   "metadata": {},
   "outputs": [
    {
     "name": "stderr",
     "output_type": "stream",
     "text": [
      "C:\\ProgramData\\Anaconda3\\lib\\site-packages\\seaborn\\distributions.py:2619: FutureWarning: `distplot` is a deprecated function and will be removed in a future version. Please adapt your code to use either `displot` (a figure-level function with similar flexibility) or `histplot` (an axes-level function for histograms).\n",
      "  warnings.warn(msg, FutureWarning)\n"
     ]
    },
    {
     "data": {
      "image/png": "[encoded data removed]",
      "text/plain": [
       "<Figure size 640x480 with 1 Axes>"
      ]
     },
     "metadata": {},
     "output_type": "display_data"
    }
   ],
   "source": [
    "sns.distplot(data['z'])\n",
    "plt.axvline(ub, color = \"r\")\n",
    "plt.axvline(lb, color = \"r\")\n",
    "plt.axvline(q1, color = \"g\")\n",
    "plt.axvline(q3, color = \"g\")\n",
    "plt.show()"
   ]
  },
  {
   "cell_type": "code",
   "execution_count": 101,
   "id": "b023015d",
   "metadata": {},
   "outputs": [
    {
     "data": {
      "image/png": "[encoded data removed]",
      "text/plain": [
       "<Figure size 640x480 with 1 Axes>"
      ]
     },
     "metadata": {},
     "output_type": "display_data"
    }
   ],
   "source": [
    "sns.boxplot(y=data['z'])\n",
    "plt.show()"
   ]
  },
  {
   "cell_type": "code",
   "execution_count": 102,
   "id": "d6e6c69e",
   "metadata": {},
   "outputs": [],
   "source": [
    "# method 1 Zcore"
   ]
  },
  {
   "cell_type": "code",
   "execution_count": 103,
   "id": "3366e093",
   "metadata": {},
   "outputs": [],
   "source": [
    "data[\"zr\"]=stats.zscore(data['z'])"
   ]
  },
  {
   "cell_type": "code",
   "execution_count": 104,
   "id": "a89deac7",
   "metadata": {},
   "outputs": [
    {
     "data": {
      "text/plain": [
       "Int64Index([20462, 21654, 22004, 27065], dtype='int64')"
      ]
     },
     "execution_count": 104,
     "metadata": {},
     "output_type": "execute_result"
    }
   ],
   "source": [
    "data[(data['zr']<-3)|(data['zr']>3)].index"
   ]
  },
  {
   "cell_type": "code",
   "execution_count": 105,
   "id": "5f1989e6",
   "metadata": {},
   "outputs": [],
   "source": [
    "data=data.drop([20462, 21654, 22004, 27065])"
   ]
  },
  {
   "cell_type": "code",
   "execution_count": 106,
   "id": "4512af0a",
   "metadata": {},
   "outputs": [
    {
     "data": {
      "text/plain": [
       "(53804, 10)"
      ]
     },
     "execution_count": 106,
     "metadata": {},
     "output_type": "execute_result"
    }
   ],
   "source": [
    "data.shape"
   ]
  },
  {
   "cell_type": "code",
   "execution_count": 107,
   "id": "03c97fb7",
   "metadata": {},
   "outputs": [
    {
     "data": {
      "image/png": "[encoded data removed]",
      "text/plain": [
       "<Figure size 640x480 with 1 Axes>"
      ]
     },
     "metadata": {},
     "output_type": "display_data"
    }
   ],
   "source": [
    "sns.boxplot(y=data['z'])\n",
    "plt.show()"
   ]
  },
  {
   "cell_type": "code",
   "execution_count": 108,
   "id": "898da4a8",
   "metadata": {},
   "outputs": [],
   "source": [
    "# Outlier price_new"
   ]
  },
  {
   "cell_type": "code",
   "execution_count": 109,
   "id": "5df9400b",
   "metadata": {},
   "outputs": [],
   "source": [
    "\n",
    "#method zscore\n"
   ]
  },
  {
   "cell_type": "code",
   "execution_count": 110,
   "id": "b9613efa",
   "metadata": {},
   "outputs": [
    {
     "data": {
      "text/plain": [
       "Int64Index([26327, 26328, 26329, 26330, 26331, 26332, 26333, 26334, 26335,\n",
       "            26336,\n",
       "            ...\n",
       "            27724, 27729, 27732, 27733, 27735, 27740, 27743, 27745, 27747,\n",
       "            27748],\n",
       "           dtype='int64', length=1203)"
      ]
     },
     "execution_count": 110,
     "metadata": {},
     "output_type": "execute_result"
    }
   ],
   "source": [
    "data['zr']=stats.zscore(data['price_new'])\n",
    "data[(data['zr']<-3)|(data['zr']>3)].index"
   ]
  },
  {
   "cell_type": "code",
   "execution_count": 111,
   "id": "d2945531",
   "metadata": {},
   "outputs": [],
   "source": [
    "data=data.drop([26327, 26328, 26329, 26330, 26331, 26332, 26333, 26334, 26335,\n",
    "            26336,\n",
    "            27724, 27729, 27732, 27733, 27735, 27740, 27743, 27745, 27747,\n",
    "            27748])"
   ]
  },
  {
   "cell_type": "code",
   "execution_count": 112,
   "id": "6c5567dd",
   "metadata": {},
   "outputs": [
    {
     "data": {
      "image/png": "[encoded data removed]",
      "text/plain": [
       "<Figure size 640x480 with 1 Axes>"
      ]
     },
     "metadata": {},
     "output_type": "display_data"
    }
   ],
   "source": [
    "sns.boxplot(y=data['price_new'])\n",
    "plt.show()"
   ]
  },
  {
   "cell_type": "code",
   "execution_count": 113,
   "id": "dab374fd",
   "metadata": {},
   "outputs": [],
   "source": [
    "# method IQR"
   ]
  },
  {
   "cell_type": "code",
   "execution_count": 116,
   "id": "2f73475c",
   "metadata": {},
   "outputs": [],
   "source": [
    "q1=data[\"price_new\"].quantile(0.25)\n",
    "q2=data[\"price_new\"].quantile(0.5)\n",
    "q3=data[\"price_new\"].quantile(0.75)"
   ]
  },
  {
   "cell_type": "code",
   "execution_count": 117,
   "id": "9e3dd73f",
   "metadata": {},
   "outputs": [
    {
     "name": "stdout",
     "output_type": "stream",
     "text": [
      "Upper Boundary 5916.5 Lower Boundary -2791.5\n"
     ]
    }
   ],
   "source": [
    "IQR=q3-q1\n",
    "lb=q1-(1.5*IQR)\n",
    "ub=q3+(1.5*IQR)\n",
    "print(\"Upper Boundary\",ub,\"Lower Boundary\",lb)"
   ]
  },
  {
   "cell_type": "code",
   "execution_count": 118,
   "id": "696a1335",
   "metadata": {},
   "outputs": [
    {
     "name": "stderr",
     "output_type": "stream",
     "text": [
      "C:\\ProgramData\\Anaconda3\\lib\\site-packages\\seaborn\\distributions.py:2619: FutureWarning: `distplot` is a deprecated function and will be removed in a future version. Please adapt your code to use either `displot` (a figure-level function with similar flexibility) or `histplot` (an axes-level function for histograms).\n",
      "  warnings.warn(msg, FutureWarning)\n"
     ]
    },
    {
     "data": {
      "image/png": "[encoded data removed]",
      "text/plain": [
       "<Figure size 640x480 with 1 Axes>"
      ]
     },
     "metadata": {},
     "output_type": "display_data"
    }
   ],
   "source": [
    "sns.distplot(data['price_new'])\n",
    "plt.axvline(ub, color = \"r\")\n",
    "plt.axvline(lb, color = \"r\")\n",
    "plt.axvline(q1, color = \"g\")\n",
    "plt.axvline(q3, color = \"g\")\n",
    "plt.show()"
   ]
  },
  {
   "cell_type": "code",
   "execution_count": 119,
   "id": "c5167079",
   "metadata": {},
   "outputs": [
    {
     "data": {
      "text/plain": [
       "Int64Index([23775, 23776, 23777, 23778, 23779, 23780, 23781, 23782, 23783,\n",
       "            23784,\n",
       "            ...\n",
       "            27682, 27683, 27686, 27687, 27688, 27689, 27720, 27721, 27722,\n",
       "            27723],\n",
       "           dtype='int64', length=3512)"
      ]
     },
     "execution_count": 119,
     "metadata": {},
     "output_type": "execute_result"
    }
   ],
   "source": [
    "data[(data['price_new']<lb)|(data['price_new']>ub)].index"
   ]
  },
  {
   "cell_type": "code",
   "execution_count": 120,
   "id": "e7fa2bf7",
   "metadata": {},
   "outputs": [],
   "source": [
    "data=data.drop([23775, 23776, 23777, 23778, 23779, 23780, 23781, 23782, 23783,\n",
    "            23784,\n",
    "            27682, 27683, 27686, 27687, 27688, 27689, 27720, 27721, 27722,\n",
    "            27723])"
   ]
  },
  {
   "cell_type": "code",
   "execution_count": 121,
   "id": "3f36f107",
   "metadata": {},
   "outputs": [
    {
     "name": "stderr",
     "output_type": "stream",
     "text": [
      "C:\\ProgramData\\Anaconda3\\lib\\site-packages\\seaborn\\distributions.py:2619: FutureWarning: `distplot` is a deprecated function and will be removed in a future version. Please adapt your code to use either `displot` (a figure-level function with similar flexibility) or `histplot` (an axes-level function for histograms).\n",
      "  warnings.warn(msg, FutureWarning)\n"
     ]
    },
    {
     "data": {
      "image/png": "[encoded data removed]",
      "text/plain": [
       "<Figure size 640x480 with 1 Axes>"
      ]
     },
     "metadata": {},
     "output_type": "display_data"
    }
   ],
   "source": [
    "sns.distplot(data['price_new'])\n",
    "plt.axvline(ub, color = \"r\")\n",
    "plt.axvline(lb, color = \"r\")\n",
    "plt.axvline(q1, color = \"g\")\n",
    "plt.axvline(q3, color = \"g\")\n",
    "plt.show()"
   ]
  },
  {
   "cell_type": "code",
   "execution_count": 122,
   "id": "7fab45f8",
   "metadata": {},
   "outputs": [
    {
     "data": {
      "image/png": "[encoded data removed]",
      "text/plain": [
       "<Figure size 640x480 with 1 Axes>"
      ]
     },
     "metadata": {},
     "output_type": "display_data"
    }
   ],
   "source": [
    "sns.boxplot(y=data['price_new'])\n",
    "plt.show()"
   ]
  },
  {
   "cell_type": "code",
   "execution_count": 123,
   "id": "1d9d96b6",
   "metadata": {},
   "outputs": [
    {
     "data": {
      "text/plain": [
       "(53764, 10)"
      ]
     },
     "execution_count": 123,
     "metadata": {},
     "output_type": "execute_result"
    }
   ],
   "source": [
    "data.shape"
   ]
  },
  {
   "cell_type": "markdown",
   "id": "eaa6b1a0",
   "metadata": {},
   "source": [
    "# 3. Scaling"
   ]
  },
  {
   "cell_type": "code",
   "execution_count": 124,
   "id": "79183013",
   "metadata": {},
   "outputs": [],
   "source": [
    "# Standard Scaler"
   ]
  },
  {
   "cell_type": "code",
   "execution_count": 125,
   "id": "a171933e",
   "metadata": {},
   "outputs": [
    {
     "data": {
      "text/html": [
       "<div>\n",
       "<style scoped>\n",
       "    .dataframe tbody tr th:only-of-type {\n",
       "        vertical-align: middle;\n",
       "    }\n",
       "\n",
       "    .dataframe tbody tr th {\n",
       "        vertical-align: top;\n",
       "    }\n",
       "\n",
       "    .dataframe thead th {\n",
       "        text-align: right;\n",
       "    }\n",
       "</style>\n",
       "<table border=\"1\" class=\"dataframe\">\n",
       "  <thead>\n",
       "    <tr style=\"text-align: right;\">\n",
       "      <th></th>\n",
       "      <th>carat</th>\n",
       "      <th>table</th>\n",
       "      <th>x</th>\n",
       "      <th>y</th>\n",
       "      <th>z</th>\n",
       "      <th>price_new</th>\n",
       "      <th>zr</th>\n",
       "    </tr>\n",
       "  </thead>\n",
       "  <tbody>\n",
       "    <tr>\n",
       "      <th>count</th>\n",
       "      <td>53764.000000</td>\n",
       "      <td>53764.000000</td>\n",
       "      <td>53764.000000</td>\n",
       "      <td>53764.000000</td>\n",
       "      <td>53764.000000</td>\n",
       "      <td>53764.000000</td>\n",
       "      <td>53764.000000</td>\n",
       "    </tr>\n",
       "    <tr>\n",
       "      <th>mean</th>\n",
       "      <td>0.794228</td>\n",
       "      <td>57.452236</td>\n",
       "      <td>5.725877</td>\n",
       "      <td>5.727806</td>\n",
       "      <td>3.535812</td>\n",
       "      <td>1954.742541</td>\n",
       "      <td>-0.002320</td>\n",
       "    </tr>\n",
       "    <tr>\n",
       "      <th>std</th>\n",
       "      <td>0.466821</td>\n",
       "      <td>2.227098</td>\n",
       "      <td>1.112585</td>\n",
       "      <td>1.104673</td>\n",
       "      <td>0.686815</td>\n",
       "      <td>1978.366983</td>\n",
       "      <td>0.996567</td>\n",
       "    </tr>\n",
       "    <tr>\n",
       "      <th>min</th>\n",
       "      <td>0.200000</td>\n",
       "      <td>43.000000</td>\n",
       "      <td>3.730000</td>\n",
       "      <td>3.680000</td>\n",
       "      <td>1.530000</td>\n",
       "      <td>170.000000</td>\n",
       "      <td>-0.901352</td>\n",
       "    </tr>\n",
       "    <tr>\n",
       "      <th>25%</th>\n",
       "      <td>0.400000</td>\n",
       "      <td>56.000000</td>\n",
       "      <td>4.710000</td>\n",
       "      <td>4.720000</td>\n",
       "      <td>2.910000</td>\n",
       "      <td>474.000000</td>\n",
       "      <td>-0.748217</td>\n",
       "    </tr>\n",
       "    <tr>\n",
       "      <th>50%</th>\n",
       "      <td>0.700000</td>\n",
       "      <td>57.000000</td>\n",
       "      <td>5.690000</td>\n",
       "      <td>5.710000</td>\n",
       "      <td>3.520000</td>\n",
       "      <td>1197.500000</td>\n",
       "      <td>-0.383767</td>\n",
       "    </tr>\n",
       "    <tr>\n",
       "      <th>75%</th>\n",
       "      <td>1.040000</td>\n",
       "      <td>59.000000</td>\n",
       "      <td>6.540000</td>\n",
       "      <td>6.530000</td>\n",
       "      <td>4.030000</td>\n",
       "      <td>2648.000000</td>\n",
       "      <td>0.346897</td>\n",
       "    </tr>\n",
       "    <tr>\n",
       "      <th>max</th>\n",
       "      <td>2.800000</td>\n",
       "      <td>95.000000</td>\n",
       "      <td>9.080000</td>\n",
       "      <td>9.010000</td>\n",
       "      <td>5.580000</td>\n",
       "      <td>9352.500000</td>\n",
       "      <td>3.724169</td>\n",
       "    </tr>\n",
       "  </tbody>\n",
       "</table>\n",
       "</div>"
      ],
      "text/plain": [
       "              carat         table             x             y             z  \\\n",
       "count  53764.000000  53764.000000  53764.000000  53764.000000  53764.000000   \n",
       "mean       0.794228     57.452236      5.725877      5.727806      3.535812   \n",
       "std        0.466821      2.227098      1.112585      1.104673      0.686815   \n",
       "min        0.200000     43.000000      3.730000      3.680000      1.530000   \n",
       "25%        0.400000     56.000000      4.710000      4.720000      2.910000   \n",
       "50%        0.700000     57.000000      5.690000      5.710000      3.520000   \n",
       "75%        1.040000     59.000000      6.540000      6.530000      4.030000   \n",
       "max        2.800000     95.000000      9.080000      9.010000      5.580000   \n",
       "\n",
       "          price_new            zr  \n",
       "count  53764.000000  53764.000000  \n",
       "mean    1954.742541     -0.002320  \n",
       "std     1978.366983      0.996567  \n",
       "min      170.000000     -0.901352  \n",
       "25%      474.000000     -0.748217  \n",
       "50%     1197.500000     -0.383767  \n",
       "75%     2648.000000      0.346897  \n",
       "max     9352.500000      3.724169  "
      ]
     },
     "execution_count": 125,
     "metadata": {},
     "output_type": "execute_result"
    }
   ],
   "source": [
    "data.describe()"
   ]
  },
  {
   "cell_type": "code",
   "execution_count": 126,
   "id": "16551e54",
   "metadata": {},
   "outputs": [],
   "source": [
    "from sklearn.preprocessing import StandardScaler"
   ]
  },
  {
   "cell_type": "code",
   "execution_count": 127,
   "id": "e8c71711",
   "metadata": {},
   "outputs": [],
   "source": [
    "sc=StandardScaler()"
   ]
  },
  {
   "cell_type": "code",
   "execution_count": 128,
   "id": "d635ee8d",
   "metadata": {},
   "outputs": [
    {
     "name": "stdout",
     "output_type": "stream",
     "text": [
      "<class 'pandas.core.frame.DataFrame'>\n",
      "Int64Index: 53764 entries, 11 to 53929\n",
      "Data columns (total 10 columns):\n",
      " #   Column     Non-Null Count  Dtype  \n",
      "---  ------     --------------  -----  \n",
      " 0   carat      53764 non-null  float64\n",
      " 1   cut        53764 non-null  object \n",
      " 2   color      53764 non-null  object \n",
      " 3   clarity    53764 non-null  object \n",
      " 4   table      53764 non-null  float64\n",
      " 5   x          53764 non-null  float64\n",
      " 6   y          53764 non-null  float64\n",
      " 7   z          53764 non-null  float64\n",
      " 8   price_new  53764 non-null  float64\n",
      " 9   zr         53764 non-null  float64\n",
      "dtypes: float64(7), object(3)\n",
      "memory usage: 4.5+ MB\n"
     ]
    }
   ],
   "source": [
    "data.info()"
   ]
  },
  {
   "cell_type": "code",
   "execution_count": 129,
   "id": "d02533d2",
   "metadata": {},
   "outputs": [],
   "source": [
    "data.loc[:,['carat', 'table','x','y','z']] = sc.fit_transform(data[['carat', 'table','x','y','z']])"
   ]
  },
  {
   "cell_type": "code",
   "execution_count": 130,
   "id": "3a065da9",
   "metadata": {},
   "outputs": [
    {
     "data": {
      "text/html": [
       "<div>\n",
       "<style scoped>\n",
       "    .dataframe tbody tr th:only-of-type {\n",
       "        vertical-align: middle;\n",
       "    }\n",
       "\n",
       "    .dataframe tbody tr th {\n",
       "        vertical-align: top;\n",
       "    }\n",
       "\n",
       "    .dataframe thead th {\n",
       "        text-align: right;\n",
       "    }\n",
       "</style>\n",
       "<table border=\"1\" class=\"dataframe\">\n",
       "  <thead>\n",
       "    <tr style=\"text-align: right;\">\n",
       "      <th></th>\n",
       "      <th>carat</th>\n",
       "      <th>table</th>\n",
       "      <th>x</th>\n",
       "      <th>y</th>\n",
       "      <th>z</th>\n",
       "      <th>price_new</th>\n",
       "      <th>zr</th>\n",
       "    </tr>\n",
       "  </thead>\n",
       "  <tbody>\n",
       "    <tr>\n",
       "      <th>count</th>\n",
       "      <td>5.376400e+04</td>\n",
       "      <td>5.376400e+04</td>\n",
       "      <td>5.376400e+04</td>\n",
       "      <td>5.376400e+04</td>\n",
       "      <td>5.376400e+04</td>\n",
       "      <td>53764.000000</td>\n",
       "      <td>53764.000000</td>\n",
       "    </tr>\n",
       "    <tr>\n",
       "      <th>mean</th>\n",
       "      <td>2.959408e-14</td>\n",
       "      <td>1.491577e-14</td>\n",
       "      <td>1.889936e-15</td>\n",
       "      <td>-2.167291e-15</td>\n",
       "      <td>-1.066232e-14</td>\n",
       "      <td>1954.742541</td>\n",
       "      <td>-0.002320</td>\n",
       "    </tr>\n",
       "    <tr>\n",
       "      <th>std</th>\n",
       "      <td>1.000009e+00</td>\n",
       "      <td>1.000009e+00</td>\n",
       "      <td>1.000009e+00</td>\n",
       "      <td>1.000009e+00</td>\n",
       "      <td>1.000009e+00</td>\n",
       "      <td>1978.366983</td>\n",
       "      <td>0.996567</td>\n",
       "    </tr>\n",
       "    <tr>\n",
       "      <th>min</th>\n",
       "      <td>-1.272936e+00</td>\n",
       "      <td>-6.489328e+00</td>\n",
       "      <td>-1.793927e+00</td>\n",
       "      <td>-1.853785e+00</td>\n",
       "      <td>-2.920482e+00</td>\n",
       "      <td>170.000000</td>\n",
       "      <td>-0.901352</td>\n",
       "    </tr>\n",
       "    <tr>\n",
       "      <th>25%</th>\n",
       "      <td>-8.445026e-01</td>\n",
       "      <td>-6.520814e-01</td>\n",
       "      <td>-9.130868e-01</td>\n",
       "      <td>-9.123205e-01</td>\n",
       "      <td>-9.111886e-01</td>\n",
       "      <td>474.000000</td>\n",
       "      <td>-0.748217</td>\n",
       "    </tr>\n",
       "    <tr>\n",
       "      <th>50%</th>\n",
       "      <td>-2.018524e-01</td>\n",
       "      <td>-2.030624e-01</td>\n",
       "      <td>-3.224698e-02</td>\n",
       "      <td>-1.611909e-02</td>\n",
       "      <td>-2.302253e-02</td>\n",
       "      <td>1197.500000</td>\n",
       "      <td>-0.383767</td>\n",
       "    </tr>\n",
       "    <tr>\n",
       "      <th>75%</th>\n",
       "      <td>5.264846e-01</td>\n",
       "      <td>6.949756e-01</td>\n",
       "      <td>7.317467e-01</td>\n",
       "      <td>7.261891e-01</td>\n",
       "      <td>7.195425e-01</td>\n",
       "      <td>2648.000000</td>\n",
       "      <td>0.346897</td>\n",
       "    </tr>\n",
       "    <tr>\n",
       "      <th>max</th>\n",
       "      <td>4.296699e+00</td>\n",
       "      <td>1.685966e+01</td>\n",
       "      <td>3.014740e+00</td>\n",
       "      <td>2.971219e+00</td>\n",
       "      <td>2.976358e+00</td>\n",
       "      <td>9352.500000</td>\n",
       "      <td>3.724169</td>\n",
       "    </tr>\n",
       "  </tbody>\n",
       "</table>\n",
       "</div>"
      ],
      "text/plain": [
       "              carat         table             x             y             z  \\\n",
       "count  5.376400e+04  5.376400e+04  5.376400e+04  5.376400e+04  5.376400e+04   \n",
       "mean   2.959408e-14  1.491577e-14  1.889936e-15 -2.167291e-15 -1.066232e-14   \n",
       "std    1.000009e+00  1.000009e+00  1.000009e+00  1.000009e+00  1.000009e+00   \n",
       "min   -1.272936e+00 -6.489328e+00 -1.793927e+00 -1.853785e+00 -2.920482e+00   \n",
       "25%   -8.445026e-01 -6.520814e-01 -9.130868e-01 -9.123205e-01 -9.111886e-01   \n",
       "50%   -2.018524e-01 -2.030624e-01 -3.224698e-02 -1.611909e-02 -2.302253e-02   \n",
       "75%    5.264846e-01  6.949756e-01  7.317467e-01  7.261891e-01  7.195425e-01   \n",
       "max    4.296699e+00  1.685966e+01  3.014740e+00  2.971219e+00  2.976358e+00   \n",
       "\n",
       "          price_new            zr  \n",
       "count  53764.000000  53764.000000  \n",
       "mean    1954.742541     -0.002320  \n",
       "std     1978.366983      0.996567  \n",
       "min      170.000000     -0.901352  \n",
       "25%      474.000000     -0.748217  \n",
       "50%     1197.500000     -0.383767  \n",
       "75%     2648.000000      0.346897  \n",
       "max     9352.500000      3.724169  "
      ]
     },
     "execution_count": 130,
     "metadata": {},
     "output_type": "execute_result"
    }
   ],
   "source": [
    "data.describe()"
   ]
  },
  {
   "cell_type": "code",
   "execution_count": 131,
   "id": "d3836634",
   "metadata": {},
   "outputs": [
    {
     "data": {
      "text/html": [
       "<div>\n",
       "<style scoped>\n",
       "    .dataframe tbody tr th:only-of-type {\n",
       "        vertical-align: middle;\n",
       "    }\n",
       "\n",
       "    .dataframe tbody tr th {\n",
       "        vertical-align: top;\n",
       "    }\n",
       "\n",
       "    .dataframe thead th {\n",
       "        text-align: right;\n",
       "    }\n",
       "</style>\n",
       "<table border=\"1\" class=\"dataframe\">\n",
       "  <thead>\n",
       "    <tr style=\"text-align: right;\">\n",
       "      <th></th>\n",
       "      <th>carat</th>\n",
       "      <th>cut</th>\n",
       "      <th>color</th>\n",
       "      <th>clarity</th>\n",
       "      <th>table</th>\n",
       "      <th>x</th>\n",
       "      <th>y</th>\n",
       "      <th>z</th>\n",
       "      <th>price_new</th>\n",
       "      <th>zr</th>\n",
       "    </tr>\n",
       "  </thead>\n",
       "  <tbody>\n",
       "    <tr>\n",
       "      <th>11</th>\n",
       "      <td>-1.208671</td>\n",
       "      <td>Ideal</td>\n",
       "      <td>J</td>\n",
       "      <td>VS1</td>\n",
       "      <td>-0.652081</td>\n",
       "      <td>-1.614163</td>\n",
       "      <td>-1.654629</td>\n",
       "      <td>-1.566393</td>\n",
       "      <td>170.0</td>\n",
       "      <td>-0.901352</td>\n",
       "    </tr>\n",
       "    <tr>\n",
       "      <th>12</th>\n",
       "      <td>-1.230093</td>\n",
       "      <td>Premium</td>\n",
       "      <td>F</td>\n",
       "      <td>SI1</td>\n",
       "      <td>1.593014</td>\n",
       "      <td>-1.659104</td>\n",
       "      <td>-1.708944</td>\n",
       "      <td>-1.755674</td>\n",
       "      <td>171.0</td>\n",
       "      <td>-0.900848</td>\n",
       "    </tr>\n",
       "    <tr>\n",
       "      <th>13</th>\n",
       "      <td>-1.037298</td>\n",
       "      <td>Ideal</td>\n",
       "      <td>J</td>\n",
       "      <td>SI2</td>\n",
       "      <td>-1.550119</td>\n",
       "      <td>-1.236661</td>\n",
       "      <td>-1.229159</td>\n",
       "      <td>-1.202391</td>\n",
       "      <td>172.0</td>\n",
       "      <td>-0.900344</td>\n",
       "    </tr>\n",
       "    <tr>\n",
       "      <th>14</th>\n",
       "      <td>-1.272936</td>\n",
       "      <td>Premium</td>\n",
       "      <td>E</td>\n",
       "      <td>SI2</td>\n",
       "      <td>2.042033</td>\n",
       "      <td>-1.739998</td>\n",
       "      <td>-1.790417</td>\n",
       "      <td>-1.843035</td>\n",
       "      <td>172.5</td>\n",
       "      <td>-0.900092</td>\n",
       "    </tr>\n",
       "    <tr>\n",
       "      <th>15</th>\n",
       "      <td>-1.015876</td>\n",
       "      <td>Premium</td>\n",
       "      <td>E</td>\n",
       "      <td>I1</td>\n",
       "      <td>0.245957</td>\n",
       "      <td>-1.209696</td>\n",
       "      <td>-1.183897</td>\n",
       "      <td>-1.246071</td>\n",
       "      <td>172.5</td>\n",
       "      <td>-0.900092</td>\n",
       "    </tr>\n",
       "    <tr>\n",
       "      <th>...</th>\n",
       "      <td>...</td>\n",
       "      <td>...</td>\n",
       "      <td>...</td>\n",
       "      <td>...</td>\n",
       "      <td>...</td>\n",
       "      <td>...</td>\n",
       "      <td>...</td>\n",
       "      <td>...</td>\n",
       "      <td>...</td>\n",
       "      <td>...</td>\n",
       "    </tr>\n",
       "    <tr>\n",
       "      <th>53925</th>\n",
       "      <td>-0.009057</td>\n",
       "      <td>Ideal</td>\n",
       "      <td>I</td>\n",
       "      <td>SI1</td>\n",
       "      <td>-0.652081</td>\n",
       "      <td>0.201445</td>\n",
       "      <td>0.219247</td>\n",
       "      <td>0.195379</td>\n",
       "      <td>1378.0</td>\n",
       "      <td>-0.292843</td>\n",
       "    </tr>\n",
       "    <tr>\n",
       "      <th>53926</th>\n",
       "      <td>-0.180431</td>\n",
       "      <td>Ideal</td>\n",
       "      <td>E</td>\n",
       "      <td>SI1</td>\n",
       "      <td>-0.652081</td>\n",
       "      <td>-0.014271</td>\n",
       "      <td>0.001986</td>\n",
       "      <td>0.006098</td>\n",
       "      <td>1378.0</td>\n",
       "      <td>-0.292843</td>\n",
       "    </tr>\n",
       "    <tr>\n",
       "      <th>53927</th>\n",
       "      <td>-0.009057</td>\n",
       "      <td>Good</td>\n",
       "      <td>F</td>\n",
       "      <td>SI1</td>\n",
       "      <td>0.694976</td>\n",
       "      <td>0.300315</td>\n",
       "      <td>0.364088</td>\n",
       "      <td>0.006098</td>\n",
       "      <td>1378.0</td>\n",
       "      <td>-0.292843</td>\n",
       "    </tr>\n",
       "    <tr>\n",
       "      <th>53928</th>\n",
       "      <td>-0.009057</td>\n",
       "      <td>Premium</td>\n",
       "      <td>E</td>\n",
       "      <td>SI2</td>\n",
       "      <td>0.245957</td>\n",
       "      <td>0.273351</td>\n",
       "      <td>0.210194</td>\n",
       "      <td>0.209939</td>\n",
       "      <td>1378.0</td>\n",
       "      <td>-0.292843</td>\n",
       "    </tr>\n",
       "    <tr>\n",
       "      <th>53929</th>\n",
       "      <td>-0.180431</td>\n",
       "      <td>Ideal</td>\n",
       "      <td>G</td>\n",
       "      <td>VS1</td>\n",
       "      <td>-0.652081</td>\n",
       "      <td>0.030670</td>\n",
       "      <td>0.001986</td>\n",
       "      <td>-0.008462</td>\n",
       "      <td>1378.0</td>\n",
       "      <td>-0.292843</td>\n",
       "    </tr>\n",
       "  </tbody>\n",
       "</table>\n",
       "<p>53764 rows × 10 columns</p>\n",
       "</div>"
      ],
      "text/plain": [
       "          carat      cut color clarity     table         x         y  \\\n",
       "11    -1.208671    Ideal     J     VS1 -0.652081 -1.614163 -1.654629   \n",
       "12    -1.230093  Premium     F     SI1  1.593014 -1.659104 -1.708944   \n",
       "13    -1.037298    Ideal     J     SI2 -1.550119 -1.236661 -1.229159   \n",
       "14    -1.272936  Premium     E     SI2  2.042033 -1.739998 -1.790417   \n",
       "15    -1.015876  Premium     E      I1  0.245957 -1.209696 -1.183897   \n",
       "...         ...      ...   ...     ...       ...       ...       ...   \n",
       "53925 -0.009057    Ideal     I     SI1 -0.652081  0.201445  0.219247   \n",
       "53926 -0.180431    Ideal     E     SI1 -0.652081 -0.014271  0.001986   \n",
       "53927 -0.009057     Good     F     SI1  0.694976  0.300315  0.364088   \n",
       "53928 -0.009057  Premium     E     SI2  0.245957  0.273351  0.210194   \n",
       "53929 -0.180431    Ideal     G     VS1 -0.652081  0.030670  0.001986   \n",
       "\n",
       "              z  price_new        zr  \n",
       "11    -1.566393      170.0 -0.901352  \n",
       "12    -1.755674      171.0 -0.900848  \n",
       "13    -1.202391      172.0 -0.900344  \n",
       "14    -1.843035      172.5 -0.900092  \n",
       "15    -1.246071      172.5 -0.900092  \n",
       "...         ...        ...       ...  \n",
       "53925  0.195379     1378.0 -0.292843  \n",
       "53926  0.006098     1378.0 -0.292843  \n",
       "53927  0.006098     1378.0 -0.292843  \n",
       "53928  0.209939     1378.0 -0.292843  \n",
       "53929 -0.008462     1378.0 -0.292843  \n",
       "\n",
       "[53764 rows x 10 columns]"
      ]
     },
     "execution_count": 131,
     "metadata": {},
     "output_type": "execute_result"
    }
   ],
   "source": [
    "data"
   ]
  },
  {
   "cell_type": "code",
   "execution_count": 132,
   "id": "c68ead39",
   "metadata": {},
   "outputs": [],
   "source": [
    "# Minmax scaler"
   ]
  },
  {
   "cell_type": "code",
   "execution_count": 133,
   "id": "3df31621",
   "metadata": {},
   "outputs": [],
   "source": [
    "from sklearn.preprocessing import MinMaxScaler"
   ]
  },
  {
   "cell_type": "code",
   "execution_count": 134,
   "id": "246835c5",
   "metadata": {},
   "outputs": [],
   "source": [
    "mn=MinMaxScaler()"
   ]
  },
  {
   "cell_type": "code",
   "execution_count": 135,
   "id": "31b01aa0",
   "metadata": {},
   "outputs": [],
   "source": [
    "data.loc[:,['carat', 'table','x','y','z','price_new']] = mn.fit_transform(data[['carat', 'table','x','y','z','price_new']])"
   ]
  },
  {
   "cell_type": "code",
   "execution_count": 136,
   "id": "aa393949",
   "metadata": {},
   "outputs": [
    {
     "data": {
      "text/html": [
       "<div>\n",
       "<style scoped>\n",
       "    .dataframe tbody tr th:only-of-type {\n",
       "        vertical-align: middle;\n",
       "    }\n",
       "\n",
       "    .dataframe tbody tr th {\n",
       "        vertical-align: top;\n",
       "    }\n",
       "\n",
       "    .dataframe thead th {\n",
       "        text-align: right;\n",
       "    }\n",
       "</style>\n",
       "<table border=\"1\" class=\"dataframe\">\n",
       "  <thead>\n",
       "    <tr style=\"text-align: right;\">\n",
       "      <th></th>\n",
       "      <th>carat</th>\n",
       "      <th>table</th>\n",
       "      <th>x</th>\n",
       "      <th>y</th>\n",
       "      <th>z</th>\n",
       "      <th>price_new</th>\n",
       "      <th>zr</th>\n",
       "    </tr>\n",
       "  </thead>\n",
       "  <tbody>\n",
       "    <tr>\n",
       "      <th>count</th>\n",
       "      <td>53764.000000</td>\n",
       "      <td>53764.000000</td>\n",
       "      <td>53764.000000</td>\n",
       "      <td>53764.000000</td>\n",
       "      <td>53764.000000</td>\n",
       "      <td>53764.000000</td>\n",
       "      <td>53764.000000</td>\n",
       "    </tr>\n",
       "    <tr>\n",
       "      <th>mean</th>\n",
       "      <td>0.228549</td>\n",
       "      <td>0.277928</td>\n",
       "      <td>0.373061</td>\n",
       "      <td>0.384204</td>\n",
       "      <td>0.495262</td>\n",
       "      <td>0.194363</td>\n",
       "      <td>-0.002320</td>\n",
       "    </tr>\n",
       "    <tr>\n",
       "      <th>std</th>\n",
       "      <td>0.179547</td>\n",
       "      <td>0.042829</td>\n",
       "      <td>0.207960</td>\n",
       "      <td>0.207256</td>\n",
       "      <td>0.169584</td>\n",
       "      <td>0.215450</td>\n",
       "      <td>0.996567</td>\n",
       "    </tr>\n",
       "    <tr>\n",
       "      <th>min</th>\n",
       "      <td>0.000000</td>\n",
       "      <td>0.000000</td>\n",
       "      <td>0.000000</td>\n",
       "      <td>0.000000</td>\n",
       "      <td>0.000000</td>\n",
       "      <td>0.000000</td>\n",
       "      <td>-0.901352</td>\n",
       "    </tr>\n",
       "    <tr>\n",
       "      <th>25%</th>\n",
       "      <td>0.076923</td>\n",
       "      <td>0.250000</td>\n",
       "      <td>0.183178</td>\n",
       "      <td>0.195122</td>\n",
       "      <td>0.340741</td>\n",
       "      <td>0.033106</td>\n",
       "      <td>-0.748217</td>\n",
       "    </tr>\n",
       "    <tr>\n",
       "      <th>50%</th>\n",
       "      <td>0.192308</td>\n",
       "      <td>0.269231</td>\n",
       "      <td>0.366355</td>\n",
       "      <td>0.380863</td>\n",
       "      <td>0.491358</td>\n",
       "      <td>0.111898</td>\n",
       "      <td>-0.383767</td>\n",
       "    </tr>\n",
       "    <tr>\n",
       "      <th>75%</th>\n",
       "      <td>0.323077</td>\n",
       "      <td>0.307692</td>\n",
       "      <td>0.525234</td>\n",
       "      <td>0.534709</td>\n",
       "      <td>0.617284</td>\n",
       "      <td>0.269861</td>\n",
       "      <td>0.346897</td>\n",
       "    </tr>\n",
       "    <tr>\n",
       "      <th>max</th>\n",
       "      <td>1.000000</td>\n",
       "      <td>1.000000</td>\n",
       "      <td>1.000000</td>\n",
       "      <td>1.000000</td>\n",
       "      <td>1.000000</td>\n",
       "      <td>1.000000</td>\n",
       "      <td>3.724169</td>\n",
       "    </tr>\n",
       "  </tbody>\n",
       "</table>\n",
       "</div>"
      ],
      "text/plain": [
       "              carat         table             x             y             z  \\\n",
       "count  53764.000000  53764.000000  53764.000000  53764.000000  53764.000000   \n",
       "mean       0.228549      0.277928      0.373061      0.384204      0.495262   \n",
       "std        0.179547      0.042829      0.207960      0.207256      0.169584   \n",
       "min        0.000000      0.000000      0.000000      0.000000      0.000000   \n",
       "25%        0.076923      0.250000      0.183178      0.195122      0.340741   \n",
       "50%        0.192308      0.269231      0.366355      0.380863      0.491358   \n",
       "75%        0.323077      0.307692      0.525234      0.534709      0.617284   \n",
       "max        1.000000      1.000000      1.000000      1.000000      1.000000   \n",
       "\n",
       "          price_new            zr  \n",
       "count  53764.000000  53764.000000  \n",
       "mean       0.194363     -0.002320  \n",
       "std        0.215450      0.996567  \n",
       "min        0.000000     -0.901352  \n",
       "25%        0.033106     -0.748217  \n",
       "50%        0.111898     -0.383767  \n",
       "75%        0.269861      0.346897  \n",
       "max        1.000000      3.724169  "
      ]
     },
     "execution_count": 136,
     "metadata": {},
     "output_type": "execute_result"
    }
   ],
   "source": [
    "data.describe()"
   ]
  },
  {
   "cell_type": "markdown",
   "id": "52f5dd1b",
   "metadata": {},
   "source": [
    "# 4. Encoding"
   ]
  },
  {
   "cell_type": "code",
   "execution_count": 137,
   "id": "6f75a373",
   "metadata": {},
   "outputs": [
    {
     "data": {
      "text/html": [
       "<div>\n",
       "<style scoped>\n",
       "    .dataframe tbody tr th:only-of-type {\n",
       "        vertical-align: middle;\n",
       "    }\n",
       "\n",
       "    .dataframe tbody tr th {\n",
       "        vertical-align: top;\n",
       "    }\n",
       "\n",
       "    .dataframe thead th {\n",
       "        text-align: right;\n",
       "    }\n",
       "</style>\n",
       "<table border=\"1\" class=\"dataframe\">\n",
       "  <thead>\n",
       "    <tr style=\"text-align: right;\">\n",
       "      <th></th>\n",
       "      <th>carat</th>\n",
       "      <th>cut</th>\n",
       "      <th>color</th>\n",
       "      <th>clarity</th>\n",
       "      <th>table</th>\n",
       "      <th>x</th>\n",
       "      <th>y</th>\n",
       "      <th>z</th>\n",
       "      <th>price_new</th>\n",
       "      <th>zr</th>\n",
       "    </tr>\n",
       "  </thead>\n",
       "  <tbody>\n",
       "    <tr>\n",
       "      <th>11</th>\n",
       "      <td>0.011538</td>\n",
       "      <td>Ideal</td>\n",
       "      <td>J</td>\n",
       "      <td>VS1</td>\n",
       "      <td>0.250000</td>\n",
       "      <td>0.037383</td>\n",
       "      <td>0.041276</td>\n",
       "      <td>0.229630</td>\n",
       "      <td>0.000000</td>\n",
       "      <td>-0.901352</td>\n",
       "    </tr>\n",
       "    <tr>\n",
       "      <th>12</th>\n",
       "      <td>0.007692</td>\n",
       "      <td>Premium</td>\n",
       "      <td>F</td>\n",
       "      <td>SI1</td>\n",
       "      <td>0.346154</td>\n",
       "      <td>0.028037</td>\n",
       "      <td>0.030019</td>\n",
       "      <td>0.197531</td>\n",
       "      <td>0.000109</td>\n",
       "      <td>-0.900848</td>\n",
       "    </tr>\n",
       "    <tr>\n",
       "      <th>13</th>\n",
       "      <td>0.042308</td>\n",
       "      <td>Ideal</td>\n",
       "      <td>J</td>\n",
       "      <td>SI2</td>\n",
       "      <td>0.211538</td>\n",
       "      <td>0.115888</td>\n",
       "      <td>0.129456</td>\n",
       "      <td>0.291358</td>\n",
       "      <td>0.000218</td>\n",
       "      <td>-0.900344</td>\n",
       "    </tr>\n",
       "    <tr>\n",
       "      <th>14</th>\n",
       "      <td>0.000000</td>\n",
       "      <td>Premium</td>\n",
       "      <td>E</td>\n",
       "      <td>SI2</td>\n",
       "      <td>0.365385</td>\n",
       "      <td>0.011215</td>\n",
       "      <td>0.013133</td>\n",
       "      <td>0.182716</td>\n",
       "      <td>0.000272</td>\n",
       "      <td>-0.900092</td>\n",
       "    </tr>\n",
       "    <tr>\n",
       "      <th>15</th>\n",
       "      <td>0.046154</td>\n",
       "      <td>Premium</td>\n",
       "      <td>E</td>\n",
       "      <td>I1</td>\n",
       "      <td>0.288462</td>\n",
       "      <td>0.121495</td>\n",
       "      <td>0.138837</td>\n",
       "      <td>0.283951</td>\n",
       "      <td>0.000272</td>\n",
       "      <td>-0.900092</td>\n",
       "    </tr>\n",
       "    <tr>\n",
       "      <th>...</th>\n",
       "      <td>...</td>\n",
       "      <td>...</td>\n",
       "      <td>...</td>\n",
       "      <td>...</td>\n",
       "      <td>...</td>\n",
       "      <td>...</td>\n",
       "      <td>...</td>\n",
       "      <td>...</td>\n",
       "      <td>...</td>\n",
       "      <td>...</td>\n",
       "    </tr>\n",
       "    <tr>\n",
       "      <th>53925</th>\n",
       "      <td>0.226923</td>\n",
       "      <td>Ideal</td>\n",
       "      <td>I</td>\n",
       "      <td>SI1</td>\n",
       "      <td>0.250000</td>\n",
       "      <td>0.414953</td>\n",
       "      <td>0.429644</td>\n",
       "      <td>0.528395</td>\n",
       "      <td>0.131555</td>\n",
       "      <td>-0.292843</td>\n",
       "    </tr>\n",
       "    <tr>\n",
       "      <th>53926</th>\n",
       "      <td>0.196154</td>\n",
       "      <td>Ideal</td>\n",
       "      <td>E</td>\n",
       "      <td>SI1</td>\n",
       "      <td>0.250000</td>\n",
       "      <td>0.370093</td>\n",
       "      <td>0.384615</td>\n",
       "      <td>0.496296</td>\n",
       "      <td>0.131555</td>\n",
       "      <td>-0.292843</td>\n",
       "    </tr>\n",
       "    <tr>\n",
       "      <th>53927</th>\n",
       "      <td>0.226923</td>\n",
       "      <td>Good</td>\n",
       "      <td>F</td>\n",
       "      <td>SI1</td>\n",
       "      <td>0.307692</td>\n",
       "      <td>0.435514</td>\n",
       "      <td>0.459662</td>\n",
       "      <td>0.496296</td>\n",
       "      <td>0.131555</td>\n",
       "      <td>-0.292843</td>\n",
       "    </tr>\n",
       "    <tr>\n",
       "      <th>53928</th>\n",
       "      <td>0.226923</td>\n",
       "      <td>Premium</td>\n",
       "      <td>E</td>\n",
       "      <td>SI2</td>\n",
       "      <td>0.288462</td>\n",
       "      <td>0.429907</td>\n",
       "      <td>0.427767</td>\n",
       "      <td>0.530864</td>\n",
       "      <td>0.131555</td>\n",
       "      <td>-0.292843</td>\n",
       "    </tr>\n",
       "    <tr>\n",
       "      <th>53929</th>\n",
       "      <td>0.196154</td>\n",
       "      <td>Ideal</td>\n",
       "      <td>G</td>\n",
       "      <td>VS1</td>\n",
       "      <td>0.250000</td>\n",
       "      <td>0.379439</td>\n",
       "      <td>0.384615</td>\n",
       "      <td>0.493827</td>\n",
       "      <td>0.131555</td>\n",
       "      <td>-0.292843</td>\n",
       "    </tr>\n",
       "  </tbody>\n",
       "</table>\n",
       "<p>53764 rows × 10 columns</p>\n",
       "</div>"
      ],
      "text/plain": [
       "          carat      cut color clarity     table         x         y  \\\n",
       "11     0.011538    Ideal     J     VS1  0.250000  0.037383  0.041276   \n",
       "12     0.007692  Premium     F     SI1  0.346154  0.028037  0.030019   \n",
       "13     0.042308    Ideal     J     SI2  0.211538  0.115888  0.129456   \n",
       "14     0.000000  Premium     E     SI2  0.365385  0.011215  0.013133   \n",
       "15     0.046154  Premium     E      I1  0.288462  0.121495  0.138837   \n",
       "...         ...      ...   ...     ...       ...       ...       ...   \n",
       "53925  0.226923    Ideal     I     SI1  0.250000  0.414953  0.429644   \n",
       "53926  0.196154    Ideal     E     SI1  0.250000  0.370093  0.384615   \n",
       "53927  0.226923     Good     F     SI1  0.307692  0.435514  0.459662   \n",
       "53928  0.226923  Premium     E     SI2  0.288462  0.429907  0.427767   \n",
       "53929  0.196154    Ideal     G     VS1  0.250000  0.379439  0.384615   \n",
       "\n",
       "              z  price_new        zr  \n",
       "11     0.229630   0.000000 -0.901352  \n",
       "12     0.197531   0.000109 -0.900848  \n",
       "13     0.291358   0.000218 -0.900344  \n",
       "14     0.182716   0.000272 -0.900092  \n",
       "15     0.283951   0.000272 -0.900092  \n",
       "...         ...        ...       ...  \n",
       "53925  0.528395   0.131555 -0.292843  \n",
       "53926  0.496296   0.131555 -0.292843  \n",
       "53927  0.496296   0.131555 -0.292843  \n",
       "53928  0.530864   0.131555 -0.292843  \n",
       "53929  0.493827   0.131555 -0.292843  \n",
       "\n",
       "[53764 rows x 10 columns]"
      ]
     },
     "execution_count": 137,
     "metadata": {},
     "output_type": "execute_result"
    }
   ],
   "source": [
    "data"
   ]
  },
  {
   "cell_type": "code",
   "execution_count": 138,
   "id": "ac60b32f",
   "metadata": {},
   "outputs": [],
   "source": [
    "data=data.drop('zr',axis=1)"
   ]
  },
  {
   "cell_type": "code",
   "execution_count": 139,
   "id": "50500a22",
   "metadata": {},
   "outputs": [
    {
     "data": {
      "text/html": [
       "<div>\n",
       "<style scoped>\n",
       "    .dataframe tbody tr th:only-of-type {\n",
       "        vertical-align: middle;\n",
       "    }\n",
       "\n",
       "    .dataframe tbody tr th {\n",
       "        vertical-align: top;\n",
       "    }\n",
       "\n",
       "    .dataframe thead th {\n",
       "        text-align: right;\n",
       "    }\n",
       "</style>\n",
       "<table border=\"1\" class=\"dataframe\">\n",
       "  <thead>\n",
       "    <tr style=\"text-align: right;\">\n",
       "      <th></th>\n",
       "      <th>carat</th>\n",
       "      <th>cut</th>\n",
       "      <th>color</th>\n",
       "      <th>clarity</th>\n",
       "      <th>table</th>\n",
       "      <th>x</th>\n",
       "      <th>y</th>\n",
       "      <th>z</th>\n",
       "      <th>price_new</th>\n",
       "    </tr>\n",
       "  </thead>\n",
       "  <tbody>\n",
       "    <tr>\n",
       "      <th>11</th>\n",
       "      <td>0.011538</td>\n",
       "      <td>Ideal</td>\n",
       "      <td>J</td>\n",
       "      <td>VS1</td>\n",
       "      <td>0.250000</td>\n",
       "      <td>0.037383</td>\n",
       "      <td>0.041276</td>\n",
       "      <td>0.229630</td>\n",
       "      <td>0.000000</td>\n",
       "    </tr>\n",
       "    <tr>\n",
       "      <th>12</th>\n",
       "      <td>0.007692</td>\n",
       "      <td>Premium</td>\n",
       "      <td>F</td>\n",
       "      <td>SI1</td>\n",
       "      <td>0.346154</td>\n",
       "      <td>0.028037</td>\n",
       "      <td>0.030019</td>\n",
       "      <td>0.197531</td>\n",
       "      <td>0.000109</td>\n",
       "    </tr>\n",
       "    <tr>\n",
       "      <th>13</th>\n",
       "      <td>0.042308</td>\n",
       "      <td>Ideal</td>\n",
       "      <td>J</td>\n",
       "      <td>SI2</td>\n",
       "      <td>0.211538</td>\n",
       "      <td>0.115888</td>\n",
       "      <td>0.129456</td>\n",
       "      <td>0.291358</td>\n",
       "      <td>0.000218</td>\n",
       "    </tr>\n",
       "    <tr>\n",
       "      <th>14</th>\n",
       "      <td>0.000000</td>\n",
       "      <td>Premium</td>\n",
       "      <td>E</td>\n",
       "      <td>SI2</td>\n",
       "      <td>0.365385</td>\n",
       "      <td>0.011215</td>\n",
       "      <td>0.013133</td>\n",
       "      <td>0.182716</td>\n",
       "      <td>0.000272</td>\n",
       "    </tr>\n",
       "    <tr>\n",
       "      <th>15</th>\n",
       "      <td>0.046154</td>\n",
       "      <td>Premium</td>\n",
       "      <td>E</td>\n",
       "      <td>I1</td>\n",
       "      <td>0.288462</td>\n",
       "      <td>0.121495</td>\n",
       "      <td>0.138837</td>\n",
       "      <td>0.283951</td>\n",
       "      <td>0.000272</td>\n",
       "    </tr>\n",
       "    <tr>\n",
       "      <th>...</th>\n",
       "      <td>...</td>\n",
       "      <td>...</td>\n",
       "      <td>...</td>\n",
       "      <td>...</td>\n",
       "      <td>...</td>\n",
       "      <td>...</td>\n",
       "      <td>...</td>\n",
       "      <td>...</td>\n",
       "      <td>...</td>\n",
       "    </tr>\n",
       "    <tr>\n",
       "      <th>53925</th>\n",
       "      <td>0.226923</td>\n",
       "      <td>Ideal</td>\n",
       "      <td>I</td>\n",
       "      <td>SI1</td>\n",
       "      <td>0.250000</td>\n",
       "      <td>0.414953</td>\n",
       "      <td>0.429644</td>\n",
       "      <td>0.528395</td>\n",
       "      <td>0.131555</td>\n",
       "    </tr>\n",
       "    <tr>\n",
       "      <th>53926</th>\n",
       "      <td>0.196154</td>\n",
       "      <td>Ideal</td>\n",
       "      <td>E</td>\n",
       "      <td>SI1</td>\n",
       "      <td>0.250000</td>\n",
       "      <td>0.370093</td>\n",
       "      <td>0.384615</td>\n",
       "      <td>0.496296</td>\n",
       "      <td>0.131555</td>\n",
       "    </tr>\n",
       "    <tr>\n",
       "      <th>53927</th>\n",
       "      <td>0.226923</td>\n",
       "      <td>Good</td>\n",
       "      <td>F</td>\n",
       "      <td>SI1</td>\n",
       "      <td>0.307692</td>\n",
       "      <td>0.435514</td>\n",
       "      <td>0.459662</td>\n",
       "      <td>0.496296</td>\n",
       "      <td>0.131555</td>\n",
       "    </tr>\n",
       "    <tr>\n",
       "      <th>53928</th>\n",
       "      <td>0.226923</td>\n",
       "      <td>Premium</td>\n",
       "      <td>E</td>\n",
       "      <td>SI2</td>\n",
       "      <td>0.288462</td>\n",
       "      <td>0.429907</td>\n",
       "      <td>0.427767</td>\n",
       "      <td>0.530864</td>\n",
       "      <td>0.131555</td>\n",
       "    </tr>\n",
       "    <tr>\n",
       "      <th>53929</th>\n",
       "      <td>0.196154</td>\n",
       "      <td>Ideal</td>\n",
       "      <td>G</td>\n",
       "      <td>VS1</td>\n",
       "      <td>0.250000</td>\n",
       "      <td>0.379439</td>\n",
       "      <td>0.384615</td>\n",
       "      <td>0.493827</td>\n",
       "      <td>0.131555</td>\n",
       "    </tr>\n",
       "  </tbody>\n",
       "</table>\n",
       "<p>53764 rows × 9 columns</p>\n",
       "</div>"
      ],
      "text/plain": [
       "          carat      cut color clarity     table         x         y  \\\n",
       "11     0.011538    Ideal     J     VS1  0.250000  0.037383  0.041276   \n",
       "12     0.007692  Premium     F     SI1  0.346154  0.028037  0.030019   \n",
       "13     0.042308    Ideal     J     SI2  0.211538  0.115888  0.129456   \n",
       "14     0.000000  Premium     E     SI2  0.365385  0.011215  0.013133   \n",
       "15     0.046154  Premium     E      I1  0.288462  0.121495  0.138837   \n",
       "...         ...      ...   ...     ...       ...       ...       ...   \n",
       "53925  0.226923    Ideal     I     SI1  0.250000  0.414953  0.429644   \n",
       "53926  0.196154    Ideal     E     SI1  0.250000  0.370093  0.384615   \n",
       "53927  0.226923     Good     F     SI1  0.307692  0.435514  0.459662   \n",
       "53928  0.226923  Premium     E     SI2  0.288462  0.429907  0.427767   \n",
       "53929  0.196154    Ideal     G     VS1  0.250000  0.379439  0.384615   \n",
       "\n",
       "              z  price_new  \n",
       "11     0.229630   0.000000  \n",
       "12     0.197531   0.000109  \n",
       "13     0.291358   0.000218  \n",
       "14     0.182716   0.000272  \n",
       "15     0.283951   0.000272  \n",
       "...         ...        ...  \n",
       "53925  0.528395   0.131555  \n",
       "53926  0.496296   0.131555  \n",
       "53927  0.496296   0.131555  \n",
       "53928  0.530864   0.131555  \n",
       "53929  0.493827   0.131555  \n",
       "\n",
       "[53764 rows x 9 columns]"
      ]
     },
     "execution_count": 139,
     "metadata": {},
     "output_type": "execute_result"
    }
   ],
   "source": [
    "data"
   ]
  },
  {
   "cell_type": "code",
   "execution_count": 140,
   "id": "b3d7ce85",
   "metadata": {},
   "outputs": [
    {
     "data": {
      "text/plain": [
       "5"
      ]
     },
     "execution_count": 140,
     "metadata": {},
     "output_type": "execute_result"
    }
   ],
   "source": [
    "data['cut'].nunique()"
   ]
  },
  {
   "cell_type": "code",
   "execution_count": 141,
   "id": "d58dae37",
   "metadata": {},
   "outputs": [],
   "source": [
    "# Label encoding for column cut"
   ]
  },
  {
   "cell_type": "code",
   "execution_count": 142,
   "id": "c746ffcb",
   "metadata": {},
   "outputs": [],
   "source": [
    "from sklearn.preprocessing import LabelEncoder"
   ]
  },
  {
   "cell_type": "code",
   "execution_count": 143,
   "id": "5e3d0a97",
   "metadata": {},
   "outputs": [],
   "source": [
    "le=LabelEncoder()\n",
    "data['cut']=le.fit_transform(data['cut'])"
   ]
  },
  {
   "cell_type": "code",
   "execution_count": 144,
   "id": "067500e8",
   "metadata": {},
   "outputs": [
    {
     "data": {
      "text/html": [
       "<div>\n",
       "<style scoped>\n",
       "    .dataframe tbody tr th:only-of-type {\n",
       "        vertical-align: middle;\n",
       "    }\n",
       "\n",
       "    .dataframe tbody tr th {\n",
       "        vertical-align: top;\n",
       "    }\n",
       "\n",
       "    .dataframe thead th {\n",
       "        text-align: right;\n",
       "    }\n",
       "</style>\n",
       "<table border=\"1\" class=\"dataframe\">\n",
       "  <thead>\n",
       "    <tr style=\"text-align: right;\">\n",
       "      <th></th>\n",
       "      <th>carat</th>\n",
       "      <th>cut</th>\n",
       "      <th>color</th>\n",
       "      <th>clarity</th>\n",
       "      <th>table</th>\n",
       "      <th>x</th>\n",
       "      <th>y</th>\n",
       "      <th>z</th>\n",
       "      <th>price_new</th>\n",
       "    </tr>\n",
       "  </thead>\n",
       "  <tbody>\n",
       "    <tr>\n",
       "      <th>11</th>\n",
       "      <td>0.011538</td>\n",
       "      <td>2</td>\n",
       "      <td>J</td>\n",
       "      <td>VS1</td>\n",
       "      <td>0.250000</td>\n",
       "      <td>0.037383</td>\n",
       "      <td>0.041276</td>\n",
       "      <td>0.229630</td>\n",
       "      <td>0.000000</td>\n",
       "    </tr>\n",
       "    <tr>\n",
       "      <th>12</th>\n",
       "      <td>0.007692</td>\n",
       "      <td>3</td>\n",
       "      <td>F</td>\n",
       "      <td>SI1</td>\n",
       "      <td>0.346154</td>\n",
       "      <td>0.028037</td>\n",
       "      <td>0.030019</td>\n",
       "      <td>0.197531</td>\n",
       "      <td>0.000109</td>\n",
       "    </tr>\n",
       "    <tr>\n",
       "      <th>13</th>\n",
       "      <td>0.042308</td>\n",
       "      <td>2</td>\n",
       "      <td>J</td>\n",
       "      <td>SI2</td>\n",
       "      <td>0.211538</td>\n",
       "      <td>0.115888</td>\n",
       "      <td>0.129456</td>\n",
       "      <td>0.291358</td>\n",
       "      <td>0.000218</td>\n",
       "    </tr>\n",
       "    <tr>\n",
       "      <th>14</th>\n",
       "      <td>0.000000</td>\n",
       "      <td>3</td>\n",
       "      <td>E</td>\n",
       "      <td>SI2</td>\n",
       "      <td>0.365385</td>\n",
       "      <td>0.011215</td>\n",
       "      <td>0.013133</td>\n",
       "      <td>0.182716</td>\n",
       "      <td>0.000272</td>\n",
       "    </tr>\n",
       "    <tr>\n",
       "      <th>15</th>\n",
       "      <td>0.046154</td>\n",
       "      <td>3</td>\n",
       "      <td>E</td>\n",
       "      <td>I1</td>\n",
       "      <td>0.288462</td>\n",
       "      <td>0.121495</td>\n",
       "      <td>0.138837</td>\n",
       "      <td>0.283951</td>\n",
       "      <td>0.000272</td>\n",
       "    </tr>\n",
       "    <tr>\n",
       "      <th>...</th>\n",
       "      <td>...</td>\n",
       "      <td>...</td>\n",
       "      <td>...</td>\n",
       "      <td>...</td>\n",
       "      <td>...</td>\n",
       "      <td>...</td>\n",
       "      <td>...</td>\n",
       "      <td>...</td>\n",
       "      <td>...</td>\n",
       "    </tr>\n",
       "    <tr>\n",
       "      <th>53925</th>\n",
       "      <td>0.226923</td>\n",
       "      <td>2</td>\n",
       "      <td>I</td>\n",
       "      <td>SI1</td>\n",
       "      <td>0.250000</td>\n",
       "      <td>0.414953</td>\n",
       "      <td>0.429644</td>\n",
       "      <td>0.528395</td>\n",
       "      <td>0.131555</td>\n",
       "    </tr>\n",
       "    <tr>\n",
       "      <th>53926</th>\n",
       "      <td>0.196154</td>\n",
       "      <td>2</td>\n",
       "      <td>E</td>\n",
       "      <td>SI1</td>\n",
       "      <td>0.250000</td>\n",
       "      <td>0.370093</td>\n",
       "      <td>0.384615</td>\n",
       "      <td>0.496296</td>\n",
       "      <td>0.131555</td>\n",
       "    </tr>\n",
       "    <tr>\n",
       "      <th>53927</th>\n",
       "      <td>0.226923</td>\n",
       "      <td>1</td>\n",
       "      <td>F</td>\n",
       "      <td>SI1</td>\n",
       "      <td>0.307692</td>\n",
       "      <td>0.435514</td>\n",
       "      <td>0.459662</td>\n",
       "      <td>0.496296</td>\n",
       "      <td>0.131555</td>\n",
       "    </tr>\n",
       "    <tr>\n",
       "      <th>53928</th>\n",
       "      <td>0.226923</td>\n",
       "      <td>3</td>\n",
       "      <td>E</td>\n",
       "      <td>SI2</td>\n",
       "      <td>0.288462</td>\n",
       "      <td>0.429907</td>\n",
       "      <td>0.427767</td>\n",
       "      <td>0.530864</td>\n",
       "      <td>0.131555</td>\n",
       "    </tr>\n",
       "    <tr>\n",
       "      <th>53929</th>\n",
       "      <td>0.196154</td>\n",
       "      <td>2</td>\n",
       "      <td>G</td>\n",
       "      <td>VS1</td>\n",
       "      <td>0.250000</td>\n",
       "      <td>0.379439</td>\n",
       "      <td>0.384615</td>\n",
       "      <td>0.493827</td>\n",
       "      <td>0.131555</td>\n",
       "    </tr>\n",
       "  </tbody>\n",
       "</table>\n",
       "<p>53764 rows × 9 columns</p>\n",
       "</div>"
      ],
      "text/plain": [
       "          carat  cut color clarity     table         x         y         z  \\\n",
       "11     0.011538    2     J     VS1  0.250000  0.037383  0.041276  0.229630   \n",
       "12     0.007692    3     F     SI1  0.346154  0.028037  0.030019  0.197531   \n",
       "13     0.042308    2     J     SI2  0.211538  0.115888  0.129456  0.291358   \n",
       "14     0.000000    3     E     SI2  0.365385  0.011215  0.013133  0.182716   \n",
       "15     0.046154    3     E      I1  0.288462  0.121495  0.138837  0.283951   \n",
       "...         ...  ...   ...     ...       ...       ...       ...       ...   \n",
       "53925  0.226923    2     I     SI1  0.250000  0.414953  0.429644  0.528395   \n",
       "53926  0.196154    2     E     SI1  0.250000  0.370093  0.384615  0.496296   \n",
       "53927  0.226923    1     F     SI1  0.307692  0.435514  0.459662  0.496296   \n",
       "53928  0.226923    3     E     SI2  0.288462  0.429907  0.427767  0.530864   \n",
       "53929  0.196154    2     G     VS1  0.250000  0.379439  0.384615  0.493827   \n",
       "\n",
       "       price_new  \n",
       "11      0.000000  \n",
       "12      0.000109  \n",
       "13      0.000218  \n",
       "14      0.000272  \n",
       "15      0.000272  \n",
       "...          ...  \n",
       "53925   0.131555  \n",
       "53926   0.131555  \n",
       "53927   0.131555  \n",
       "53928   0.131555  \n",
       "53929   0.131555  \n",
       "\n",
       "[53764 rows x 9 columns]"
      ]
     },
     "execution_count": 144,
     "metadata": {},
     "output_type": "execute_result"
    }
   ],
   "source": [
    "data"
   ]
  },
  {
   "cell_type": "code",
   "execution_count": 145,
   "id": "96e6eb40",
   "metadata": {},
   "outputs": [],
   "source": [
    "x=data.drop('price_new',axis=1)\n",
    "y=data['price_new']"
   ]
  },
  {
   "cell_type": "code",
   "execution_count": 146,
   "id": "941e6fa6",
   "metadata": {},
   "outputs": [],
   "source": [
    "x=pd.get_dummies(x)"
   ]
  },
  {
   "cell_type": "code",
   "execution_count": 147,
   "id": "2c1a06ea",
   "metadata": {},
   "outputs": [
    {
     "data": {
      "text/html": [
       "<div>\n",
       "<style scoped>\n",
       "    .dataframe tbody tr th:only-of-type {\n",
       "        vertical-align: middle;\n",
       "    }\n",
       "\n",
       "    .dataframe tbody tr th {\n",
       "        vertical-align: top;\n",
       "    }\n",
       "\n",
       "    .dataframe thead th {\n",
       "        text-align: right;\n",
       "    }\n",
       "</style>\n",
       "<table border=\"1\" class=\"dataframe\">\n",
       "  <thead>\n",
       "    <tr style=\"text-align: right;\">\n",
       "      <th></th>\n",
       "      <th>carat</th>\n",
       "      <th>cut</th>\n",
       "      <th>table</th>\n",
       "      <th>x</th>\n",
       "      <th>y</th>\n",
       "      <th>z</th>\n",
       "      <th>color_D</th>\n",
       "      <th>color_E</th>\n",
       "      <th>color_F</th>\n",
       "      <th>color_G</th>\n",
       "      <th>...</th>\n",
       "      <th>color_I</th>\n",
       "      <th>color_J</th>\n",
       "      <th>clarity_I1</th>\n",
       "      <th>clarity_IF</th>\n",
       "      <th>clarity_SI1</th>\n",
       "      <th>clarity_SI2</th>\n",
       "      <th>clarity_VS1</th>\n",
       "      <th>clarity_VS2</th>\n",
       "      <th>clarity_VVS1</th>\n",
       "      <th>clarity_VVS2</th>\n",
       "    </tr>\n",
       "  </thead>\n",
       "  <tbody>\n",
       "    <tr>\n",
       "      <th>11</th>\n",
       "      <td>0.011538</td>\n",
       "      <td>2</td>\n",
       "      <td>0.250000</td>\n",
       "      <td>0.037383</td>\n",
       "      <td>0.041276</td>\n",
       "      <td>0.229630</td>\n",
       "      <td>0</td>\n",
       "      <td>0</td>\n",
       "      <td>0</td>\n",
       "      <td>0</td>\n",
       "      <td>...</td>\n",
       "      <td>0</td>\n",
       "      <td>1</td>\n",
       "      <td>0</td>\n",
       "      <td>0</td>\n",
       "      <td>0</td>\n",
       "      <td>0</td>\n",
       "      <td>1</td>\n",
       "      <td>0</td>\n",
       "      <td>0</td>\n",
       "      <td>0</td>\n",
       "    </tr>\n",
       "    <tr>\n",
       "      <th>12</th>\n",
       "      <td>0.007692</td>\n",
       "      <td>3</td>\n",
       "      <td>0.346154</td>\n",
       "      <td>0.028037</td>\n",
       "      <td>0.030019</td>\n",
       "      <td>0.197531</td>\n",
       "      <td>0</td>\n",
       "      <td>0</td>\n",
       "      <td>1</td>\n",
       "      <td>0</td>\n",
       "      <td>...</td>\n",
       "      <td>0</td>\n",
       "      <td>0</td>\n",
       "      <td>0</td>\n",
       "      <td>0</td>\n",
       "      <td>1</td>\n",
       "      <td>0</td>\n",
       "      <td>0</td>\n",
       "      <td>0</td>\n",
       "      <td>0</td>\n",
       "      <td>0</td>\n",
       "    </tr>\n",
       "    <tr>\n",
       "      <th>13</th>\n",
       "      <td>0.042308</td>\n",
       "      <td>2</td>\n",
       "      <td>0.211538</td>\n",
       "      <td>0.115888</td>\n",
       "      <td>0.129456</td>\n",
       "      <td>0.291358</td>\n",
       "      <td>0</td>\n",
       "      <td>0</td>\n",
       "      <td>0</td>\n",
       "      <td>0</td>\n",
       "      <td>...</td>\n",
       "      <td>0</td>\n",
       "      <td>1</td>\n",
       "      <td>0</td>\n",
       "      <td>0</td>\n",
       "      <td>0</td>\n",
       "      <td>1</td>\n",
       "      <td>0</td>\n",
       "      <td>0</td>\n",
       "      <td>0</td>\n",
       "      <td>0</td>\n",
       "    </tr>\n",
       "    <tr>\n",
       "      <th>14</th>\n",
       "      <td>0.000000</td>\n",
       "      <td>3</td>\n",
       "      <td>0.365385</td>\n",
       "      <td>0.011215</td>\n",
       "      <td>0.013133</td>\n",
       "      <td>0.182716</td>\n",
       "      <td>0</td>\n",
       "      <td>1</td>\n",
       "      <td>0</td>\n",
       "      <td>0</td>\n",
       "      <td>...</td>\n",
       "      <td>0</td>\n",
       "      <td>0</td>\n",
       "      <td>0</td>\n",
       "      <td>0</td>\n",
       "      <td>0</td>\n",
       "      <td>1</td>\n",
       "      <td>0</td>\n",
       "      <td>0</td>\n",
       "      <td>0</td>\n",
       "      <td>0</td>\n",
       "    </tr>\n",
       "    <tr>\n",
       "      <th>15</th>\n",
       "      <td>0.046154</td>\n",
       "      <td>3</td>\n",
       "      <td>0.288462</td>\n",
       "      <td>0.121495</td>\n",
       "      <td>0.138837</td>\n",
       "      <td>0.283951</td>\n",
       "      <td>0</td>\n",
       "      <td>1</td>\n",
       "      <td>0</td>\n",
       "      <td>0</td>\n",
       "      <td>...</td>\n",
       "      <td>0</td>\n",
       "      <td>0</td>\n",
       "      <td>1</td>\n",
       "      <td>0</td>\n",
       "      <td>0</td>\n",
       "      <td>0</td>\n",
       "      <td>0</td>\n",
       "      <td>0</td>\n",
       "      <td>0</td>\n",
       "      <td>0</td>\n",
       "    </tr>\n",
       "    <tr>\n",
       "      <th>...</th>\n",
       "      <td>...</td>\n",
       "      <td>...</td>\n",
       "      <td>...</td>\n",
       "      <td>...</td>\n",
       "      <td>...</td>\n",
       "      <td>...</td>\n",
       "      <td>...</td>\n",
       "      <td>...</td>\n",
       "      <td>...</td>\n",
       "      <td>...</td>\n",
       "      <td>...</td>\n",
       "      <td>...</td>\n",
       "      <td>...</td>\n",
       "      <td>...</td>\n",
       "      <td>...</td>\n",
       "      <td>...</td>\n",
       "      <td>...</td>\n",
       "      <td>...</td>\n",
       "      <td>...</td>\n",
       "      <td>...</td>\n",
       "      <td>...</td>\n",
       "    </tr>\n",
       "    <tr>\n",
       "      <th>53925</th>\n",
       "      <td>0.226923</td>\n",
       "      <td>2</td>\n",
       "      <td>0.250000</td>\n",
       "      <td>0.414953</td>\n",
       "      <td>0.429644</td>\n",
       "      <td>0.528395</td>\n",
       "      <td>0</td>\n",
       "      <td>0</td>\n",
       "      <td>0</td>\n",
       "      <td>0</td>\n",
       "      <td>...</td>\n",
       "      <td>1</td>\n",
       "      <td>0</td>\n",
       "      <td>0</td>\n",
       "      <td>0</td>\n",
       "      <td>1</td>\n",
       "      <td>0</td>\n",
       "      <td>0</td>\n",
       "      <td>0</td>\n",
       "      <td>0</td>\n",
       "      <td>0</td>\n",
       "    </tr>\n",
       "    <tr>\n",
       "      <th>53926</th>\n",
       "      <td>0.196154</td>\n",
       "      <td>2</td>\n",
       "      <td>0.250000</td>\n",
       "      <td>0.370093</td>\n",
       "      <td>0.384615</td>\n",
       "      <td>0.496296</td>\n",
       "      <td>0</td>\n",
       "      <td>1</td>\n",
       "      <td>0</td>\n",
       "      <td>0</td>\n",
       "      <td>...</td>\n",
       "      <td>0</td>\n",
       "      <td>0</td>\n",
       "      <td>0</td>\n",
       "      <td>0</td>\n",
       "      <td>1</td>\n",
       "      <td>0</td>\n",
       "      <td>0</td>\n",
       "      <td>0</td>\n",
       "      <td>0</td>\n",
       "      <td>0</td>\n",
       "    </tr>\n",
       "    <tr>\n",
       "      <th>53927</th>\n",
       "      <td>0.226923</td>\n",
       "      <td>1</td>\n",
       "      <td>0.307692</td>\n",
       "      <td>0.435514</td>\n",
       "      <td>0.459662</td>\n",
       "      <td>0.496296</td>\n",
       "      <td>0</td>\n",
       "      <td>0</td>\n",
       "      <td>1</td>\n",
       "      <td>0</td>\n",
       "      <td>...</td>\n",
       "      <td>0</td>\n",
       "      <td>0</td>\n",
       "      <td>0</td>\n",
       "      <td>0</td>\n",
       "      <td>1</td>\n",
       "      <td>0</td>\n",
       "      <td>0</td>\n",
       "      <td>0</td>\n",
       "      <td>0</td>\n",
       "      <td>0</td>\n",
       "    </tr>\n",
       "    <tr>\n",
       "      <th>53928</th>\n",
       "      <td>0.226923</td>\n",
       "      <td>3</td>\n",
       "      <td>0.288462</td>\n",
       "      <td>0.429907</td>\n",
       "      <td>0.427767</td>\n",
       "      <td>0.530864</td>\n",
       "      <td>0</td>\n",
       "      <td>1</td>\n",
       "      <td>0</td>\n",
       "      <td>0</td>\n",
       "      <td>...</td>\n",
       "      <td>0</td>\n",
       "      <td>0</td>\n",
       "      <td>0</td>\n",
       "      <td>0</td>\n",
       "      <td>0</td>\n",
       "      <td>1</td>\n",
       "      <td>0</td>\n",
       "      <td>0</td>\n",
       "      <td>0</td>\n",
       "      <td>0</td>\n",
       "    </tr>\n",
       "    <tr>\n",
       "      <th>53929</th>\n",
       "      <td>0.196154</td>\n",
       "      <td>2</td>\n",
       "      <td>0.250000</td>\n",
       "      <td>0.379439</td>\n",
       "      <td>0.384615</td>\n",
       "      <td>0.493827</td>\n",
       "      <td>0</td>\n",
       "      <td>0</td>\n",
       "      <td>0</td>\n",
       "      <td>1</td>\n",
       "      <td>...</td>\n",
       "      <td>0</td>\n",
       "      <td>0</td>\n",
       "      <td>0</td>\n",
       "      <td>0</td>\n",
       "      <td>0</td>\n",
       "      <td>0</td>\n",
       "      <td>1</td>\n",
       "      <td>0</td>\n",
       "      <td>0</td>\n",
       "      <td>0</td>\n",
       "    </tr>\n",
       "  </tbody>\n",
       "</table>\n",
       "<p>53764 rows × 21 columns</p>\n",
       "</div>"
      ],
      "text/plain": [
       "          carat  cut     table         x         y         z  color_D  \\\n",
       "11     0.011538    2  0.250000  0.037383  0.041276  0.229630        0   \n",
       "12     0.007692    3  0.346154  0.028037  0.030019  0.197531        0   \n",
       "13     0.042308    2  0.211538  0.115888  0.129456  0.291358        0   \n",
       "14     0.000000    3  0.365385  0.011215  0.013133  0.182716        0   \n",
       "15     0.046154    3  0.288462  0.121495  0.138837  0.283951        0   \n",
       "...         ...  ...       ...       ...       ...       ...      ...   \n",
       "53925  0.226923    2  0.250000  0.414953  0.429644  0.528395        0   \n",
       "53926  0.196154    2  0.250000  0.370093  0.384615  0.496296        0   \n",
       "53927  0.226923    1  0.307692  0.435514  0.459662  0.496296        0   \n",
       "53928  0.226923    3  0.288462  0.429907  0.427767  0.530864        0   \n",
       "53929  0.196154    2  0.250000  0.379439  0.384615  0.493827        0   \n",
       "\n",
       "       color_E  color_F  color_G  ...  color_I  color_J  clarity_I1  \\\n",
       "11           0        0        0  ...        0        1           0   \n",
       "12           0        1        0  ...        0        0           0   \n",
       "13           0        0        0  ...        0        1           0   \n",
       "14           1        0        0  ...        0        0           0   \n",
       "15           1        0        0  ...        0        0           1   \n",
       "...        ...      ...      ...  ...      ...      ...         ...   \n",
       "53925        0        0        0  ...        1        0           0   \n",
       "53926        1        0        0  ...        0        0           0   \n",
       "53927        0        1        0  ...        0        0           0   \n",
       "53928        1        0        0  ...        0        0           0   \n",
       "53929        0        0        1  ...        0        0           0   \n",
       "\n",
       "       clarity_IF  clarity_SI1  clarity_SI2  clarity_VS1  clarity_VS2  \\\n",
       "11              0            0            0            1            0   \n",
       "12              0            1            0            0            0   \n",
       "13              0            0            1            0            0   \n",
       "14              0            0            1            0            0   \n",
       "15              0            0            0            0            0   \n",
       "...           ...          ...          ...          ...          ...   \n",
       "53925           0            1            0            0            0   \n",
       "53926           0            1            0            0            0   \n",
       "53927           0            1            0            0            0   \n",
       "53928           0            0            1            0            0   \n",
       "53929           0            0            0            1            0   \n",
       "\n",
       "       clarity_VVS1  clarity_VVS2  \n",
       "11                0             0  \n",
       "12                0             0  \n",
       "13                0             0  \n",
       "14                0             0  \n",
       "15                0             0  \n",
       "...             ...           ...  \n",
       "53925             0             0  \n",
       "53926             0             0  \n",
       "53927             0             0  \n",
       "53928             0             0  \n",
       "53929             0             0  \n",
       "\n",
       "[53764 rows x 21 columns]"
      ]
     },
     "execution_count": 147,
     "metadata": {},
     "output_type": "execute_result"
    }
   ],
   "source": [
    "x"
   ]
  },
  {
   "cell_type": "code",
   "execution_count": 148,
   "id": "436bf730",
   "metadata": {},
   "outputs": [],
   "source": [
    "from sklearn.model_selection import train_test_split\n",
    "x_train,x_test,y_train,y_test=train_test_split(x,y,test_size=0.2,random_state=134)"
   ]
  }
 ],
 "metadata": {
  "kernelspec": {
   "display_name": "Python 3 (ipykernel)",
   "language": "python",
   "name": "python3"
  },
  "language_info": {
   "codemirror_mode": {
    "name": "ipython",
    "version": 3
   },
   "file_extension": ".py",
   "mimetype": "text/x-python",
   "name": "python",
   "nbconvert_exporter": "python",
   "pygments_lexer": "ipython3",
   "version": "3.9.13"
  }
 },
 "nbformat": 4,
 "nbformat_minor": 5
}
